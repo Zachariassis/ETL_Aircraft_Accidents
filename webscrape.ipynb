{
 "metadata": {
  "language_info": {
   "codemirror_mode": {
    "name": "ipython",
    "version": 3
   },
   "file_extension": ".py",
   "mimetype": "text/x-python",
   "name": "python",
   "nbconvert_exporter": "python",
   "pygments_lexer": "ipython3",
   "version": "3.6.10-final"
  },
  "orig_nbformat": 2,
  "kernelspec": {
   "name": "Python 3.6.10 64-bit",
   "display_name": "Python 3.6.10 64-bit",
   "metadata": {
    "interpreter": {
     "hash": "1971913ac00dca1e77910a85423f09eb065d4a539704e5d6846dea4f768dc547"
    }
   }
  }
 },
 "nbformat": 4,
 "nbformat_minor": 2,
 "cells": [
  {
   "cell_type": "code",
   "execution_count": 175,
   "metadata": {},
   "outputs": [],
   "source": [
    "from splinter import Browser\n",
    "from bs4 import BeautifulSoup\n",
    "import pandas as pd\n",
    "import json\n",
    "import time"
   ]
  },
  {
   "cell_type": "code",
   "execution_count": 2,
   "metadata": {},
   "outputs": [],
   "source": [
    "executable_path = {'executable_path': 'chromedriver.exe'}\n",
    "browser = Browser('chrome', **executable_path, headless=False)"
   ]
  },
  {
   "cell_type": "code",
   "execution_count": 3,
   "metadata": {},
   "outputs": [
    {
     "output_type": "execute_result",
     "data": {
      "text/plain": [
       "   Unnamed: 0        Date        Country     City_State    Make   Model  \\\n",
       "0           0  12/31/2019  United States        Elk, CA  Cessna     175   \n",
       "1           1  12/31/2019  United States     OLATHE, KS  Mooney    M20S   \n",
       "2           2  12/31/2019  United States  Fairbanks, AK  Cessna     170   \n",
       "3           5  12/28/2019  United States  LAFAYETTE, LA   Piper  PA 31T   \n",
       "4           6  12/25/2019  United States   Headland, AL    Bell     407   \n",
       "\n",
       "  Injury_Severity Aircraft_Damage   Latitude   Longitude  \n",
       "0       Non-Fatal     Substantial  39.128611 -123.715833  \n",
       "1        Fatal(2)       Destroyed  38.846111  -94.736111  \n",
       "2       Non-Fatal     Substantial  64.666945 -148.133334  \n",
       "3        Fatal(5)       Destroyed  30.176111  -92.007500  \n",
       "4        Fatal(1)     Substantial  31.364167  -85.312500  "
      ],
      "text/html": "<div>\n<style scoped>\n    .dataframe tbody tr th:only-of-type {\n        vertical-align: middle;\n    }\n\n    .dataframe tbody tr th {\n        vertical-align: top;\n    }\n\n    .dataframe thead th {\n        text-align: right;\n    }\n</style>\n<table border=\"1\" class=\"dataframe\">\n  <thead>\n    <tr style=\"text-align: right;\">\n      <th></th>\n      <th>Unnamed: 0</th>\n      <th>Date</th>\n      <th>Country</th>\n      <th>City_State</th>\n      <th>Make</th>\n      <th>Model</th>\n      <th>Injury_Severity</th>\n      <th>Aircraft_Damage</th>\n      <th>Latitude</th>\n      <th>Longitude</th>\n    </tr>\n  </thead>\n  <tbody>\n    <tr>\n      <th>0</th>\n      <td>0</td>\n      <td>12/31/2019</td>\n      <td>United States</td>\n      <td>Elk, CA</td>\n      <td>Cessna</td>\n      <td>175</td>\n      <td>Non-Fatal</td>\n      <td>Substantial</td>\n      <td>39.128611</td>\n      <td>-123.715833</td>\n    </tr>\n    <tr>\n      <th>1</th>\n      <td>1</td>\n      <td>12/31/2019</td>\n      <td>United States</td>\n      <td>OLATHE, KS</td>\n      <td>Mooney</td>\n      <td>M20S</td>\n      <td>Fatal(2)</td>\n      <td>Destroyed</td>\n      <td>38.846111</td>\n      <td>-94.736111</td>\n    </tr>\n    <tr>\n      <th>2</th>\n      <td>2</td>\n      <td>12/31/2019</td>\n      <td>United States</td>\n      <td>Fairbanks, AK</td>\n      <td>Cessna</td>\n      <td>170</td>\n      <td>Non-Fatal</td>\n      <td>Substantial</td>\n      <td>64.666945</td>\n      <td>-148.133334</td>\n    </tr>\n    <tr>\n      <th>3</th>\n      <td>5</td>\n      <td>12/28/2019</td>\n      <td>United States</td>\n      <td>LAFAYETTE, LA</td>\n      <td>Piper</td>\n      <td>PA 31T</td>\n      <td>Fatal(5)</td>\n      <td>Destroyed</td>\n      <td>30.176111</td>\n      <td>-92.007500</td>\n    </tr>\n    <tr>\n      <th>4</th>\n      <td>6</td>\n      <td>12/25/2019</td>\n      <td>United States</td>\n      <td>Headland, AL</td>\n      <td>Bell</td>\n      <td>407</td>\n      <td>Fatal(1)</td>\n      <td>Substantial</td>\n      <td>31.364167</td>\n      <td>-85.312500</td>\n    </tr>\n  </tbody>\n</table>\n</div>"
     },
     "metadata": {},
     "execution_count": 3
    }
   ],
   "source": [
    "data=pd.read_csv('Resources/aviation_renamed.csv')\n",
    "data.head()"
   ]
  },
  {
   "cell_type": "code",
   "execution_count": 182,
   "metadata": {},
   "outputs": [],
   "source": [
    "planes=pd.DataFrame({'Make and Model':[],\n",
    "                     'Description':[],\n",
    "                     'URL':[]\n",
    "                     })"
   ]
  },
  {
   "cell_type": "code",
   "execution_count": 90,
   "metadata": {},
   "outputs": [
    {
     "output_type": "execute_result",
     "data": {
      "text/plain": [
       "                             Make And Model  count\n",
       "0                                cessna 172    585\n",
       "1                                cessna 152    381\n",
       "2                               cessna 172S    324\n",
       "3                               cessna 172N    316\n",
       "4                                cessna 180    229\n",
       "...                                     ...    ...\n",
       "5074  ercoupe (eng & research corp.) 415-CD      1\n",
       "5075                          cessna C-150H      1\n",
       "5076          eurocopter AS 350 B2 ECUREUIL      1\n",
       "5077                          beech BE-V35B      1\n",
       "5078         aero vodochody aero works L39C      1\n",
       "\n",
       "[5079 rows x 2 columns]"
      ],
      "text/html": "<div>\n<style scoped>\n    .dataframe tbody tr th:only-of-type {\n        vertical-align: middle;\n    }\n\n    .dataframe tbody tr th {\n        vertical-align: top;\n    }\n\n    .dataframe thead th {\n        text-align: right;\n    }\n</style>\n<table border=\"1\" class=\"dataframe\">\n  <thead>\n    <tr style=\"text-align: right;\">\n      <th></th>\n      <th>Make And Model</th>\n      <th>count</th>\n    </tr>\n  </thead>\n  <tbody>\n    <tr>\n      <th>0</th>\n      <td>cessna 172</td>\n      <td>585</td>\n    </tr>\n    <tr>\n      <th>1</th>\n      <td>cessna 152</td>\n      <td>381</td>\n    </tr>\n    <tr>\n      <th>2</th>\n      <td>cessna 172S</td>\n      <td>324</td>\n    </tr>\n    <tr>\n      <th>3</th>\n      <td>cessna 172N</td>\n      <td>316</td>\n    </tr>\n    <tr>\n      <th>4</th>\n      <td>cessna 180</td>\n      <td>229</td>\n    </tr>\n    <tr>\n      <th>...</th>\n      <td>...</td>\n      <td>...</td>\n    </tr>\n    <tr>\n      <th>5074</th>\n      <td>ercoupe (eng &amp; research corp.) 415-CD</td>\n      <td>1</td>\n    </tr>\n    <tr>\n      <th>5075</th>\n      <td>cessna C-150H</td>\n      <td>1</td>\n    </tr>\n    <tr>\n      <th>5076</th>\n      <td>eurocopter AS 350 B2 ECUREUIL</td>\n      <td>1</td>\n    </tr>\n    <tr>\n      <th>5077</th>\n      <td>beech BE-V35B</td>\n      <td>1</td>\n    </tr>\n    <tr>\n      <th>5078</th>\n      <td>aero vodochody aero works L39C</td>\n      <td>1</td>\n    </tr>\n  </tbody>\n</table>\n<p>5079 rows × 2 columns</p>\n</div>"
     },
     "metadata": {},
     "execution_count": 90
    }
   ],
   "source": [
    "data['Make']=data['Make'].str.lower()\n",
    "data['Make and Model']=data['Make']+' '+data['Model']\n",
    "makemodel=data['Make and Model'].value_counts()\n",
    "makemodel=pd.DataFrame(makemodel)\n",
    "makemodel=makemodel.reset_index(drop=False).rename(columns={'index':'Make And Model', 'Make and Model': 'count'})\n",
    "makemodel"
   ]
  },
  {
   "cell_type": "code",
   "execution_count": 183,
   "metadata": {},
   "outputs": [
    {
     "output_type": "stream",
     "name": "stdout",
     "text": [
      "Plane found:cessna 172\n",
      "Plane found:cessna 152\n",
      "Plane found:cessna 172S\n",
      "Plane found:cessna 172N\n",
      "Plane found:cessna 180\n",
      "Plane found:cessna 172M\n",
      "Plane found:cessna 182\n",
      "Plane found:piper PA-28-140\n",
      "Plane found:piper PA-18-150\n",
      "Plane found:cessna 172P\n"
     ]
    },
    {
     "output_type": "execute_result",
     "data": {
      "text/plain": [
       "    Make and Model                                        Description  \\\n",
       "0       cessna 172  The Cessna 172 Skyhawk is an American four-sea...   \n",
       "0       cessna 152  The Cessna 152 is an American two-seat, fixed-...   \n",
       "0      cessna 172S  The Cessna 172 Skyhawk is an American four-sea...   \n",
       "0      cessna 172N  The Cessna 172 Skyhawk is an American four-sea...   \n",
       "0       cessna 180  The Cessna 180 is a four- or six-seat, fixed c...   \n",
       "0      cessna 172M  The Cessna 172 Skyhawk is an American four-sea...   \n",
       "0       cessna 182  The Cessna 182 Skylane is an American four-sea...   \n",
       "0  piper PA-28-140  The Piper PA-28 Cherokee is a family of two-se...   \n",
       "0  piper PA-18-150  The Piper PA-18 Super Cub is a two-seat, singl...   \n",
       "0      cessna 172P  The Cessna 172 Skyhawk is an American four-sea...   \n",
       "\n",
       "                                                 URL  \n",
       "0           https://en.wikipedia.org/wiki/Cessna_172  \n",
       "0           https://en.wikipedia.org/wiki/Cessna_152  \n",
       "0           https://en.wikipedia.org/wiki/Cessna_172  \n",
       "0           https://en.wikipedia.org/wiki/Cessna_172  \n",
       "0           https://en.wikipedia.org/wiki/Cessna_180  \n",
       "0           https://en.wikipedia.org/wiki/Cessna_172  \n",
       "0   https://en.wikipedia.org/wiki/Cessna_182_Skylane  \n",
       "0  https://en.wikipedia.org/wiki/Piper_PA-28_Cher...  \n",
       "0  https://en.wikipedia.org/wiki/Piper_PA-18_Supe...  \n",
       "0           https://en.wikipedia.org/wiki/Cessna_172  "
      ],
      "text/html": "<div>\n<style scoped>\n    .dataframe tbody tr th:only-of-type {\n        vertical-align: middle;\n    }\n\n    .dataframe tbody tr th {\n        vertical-align: top;\n    }\n\n    .dataframe thead th {\n        text-align: right;\n    }\n</style>\n<table border=\"1\" class=\"dataframe\">\n  <thead>\n    <tr style=\"text-align: right;\">\n      <th></th>\n      <th>Make and Model</th>\n      <th>Description</th>\n      <th>URL</th>\n    </tr>\n  </thead>\n  <tbody>\n    <tr>\n      <th>0</th>\n      <td>cessna 172</td>\n      <td>The Cessna 172 Skyhawk is an American four-sea...</td>\n      <td>https://en.wikipedia.org/wiki/Cessna_172</td>\n    </tr>\n    <tr>\n      <th>0</th>\n      <td>cessna 152</td>\n      <td>The Cessna 152 is an American two-seat, fixed-...</td>\n      <td>https://en.wikipedia.org/wiki/Cessna_152</td>\n    </tr>\n    <tr>\n      <th>0</th>\n      <td>cessna 172S</td>\n      <td>The Cessna 172 Skyhawk is an American four-sea...</td>\n      <td>https://en.wikipedia.org/wiki/Cessna_172</td>\n    </tr>\n    <tr>\n      <th>0</th>\n      <td>cessna 172N</td>\n      <td>The Cessna 172 Skyhawk is an American four-sea...</td>\n      <td>https://en.wikipedia.org/wiki/Cessna_172</td>\n    </tr>\n    <tr>\n      <th>0</th>\n      <td>cessna 180</td>\n      <td>The Cessna 180 is a four- or six-seat, fixed c...</td>\n      <td>https://en.wikipedia.org/wiki/Cessna_180</td>\n    </tr>\n    <tr>\n      <th>0</th>\n      <td>cessna 172M</td>\n      <td>The Cessna 172 Skyhawk is an American four-sea...</td>\n      <td>https://en.wikipedia.org/wiki/Cessna_172</td>\n    </tr>\n    <tr>\n      <th>0</th>\n      <td>cessna 182</td>\n      <td>The Cessna 182 Skylane is an American four-sea...</td>\n      <td>https://en.wikipedia.org/wiki/Cessna_182_Skylane</td>\n    </tr>\n    <tr>\n      <th>0</th>\n      <td>piper PA-28-140</td>\n      <td>The Piper PA-28 Cherokee is a family of two-se...</td>\n      <td>https://en.wikipedia.org/wiki/Piper_PA-28_Cher...</td>\n    </tr>\n    <tr>\n      <th>0</th>\n      <td>piper PA-18-150</td>\n      <td>The Piper PA-18 Super Cub is a two-seat, singl...</td>\n      <td>https://en.wikipedia.org/wiki/Piper_PA-18_Supe...</td>\n    </tr>\n    <tr>\n      <th>0</th>\n      <td>cessna 172P</td>\n      <td>The Cessna 172 Skyhawk is an American four-sea...</td>\n      <td>https://en.wikipedia.org/wiki/Cessna_172</td>\n    </tr>\n  </tbody>\n</table>\n</div>"
     },
     "metadata": {},
     "execution_count": 183
    }
   ],
   "source": [
    "\n",
    "for i in range(len(data)):\n",
    "    base_url='https://en.wikipedia.org/wiki/Special:Search?search='\n",
    "    mm2=makemodel['Make And Model'][i]\n",
    "    mm=makemodel['Make And Model'][i].replace(' ','+')\n",
    "    url2=mm+'&go=Go&ns0=1'\n",
    "    url=base_url+url2\n",
    "    browser.visit(url)\n",
    "    html = browser.html\n",
    "    soup = BeautifulSoup(html, 'html.parser')\n",
    "\n",
    "    try:\n",
    "\n",
    "\n",
    "        articles = soup.find('p')\n",
    "        text=articles.text.strip()\n",
    "        script=soup.body.find_all('script', type=\"application/ld+json\")[0]\n",
    "        wiki_link=json.loads(script.string)['url']\n",
    "        plane=pd.DataFrame({'Make and Model':[makemodel['Make And Model'][i]],\n",
    "                            'Description':[text],\n",
    "                            'URL':[wiki_link]\n",
    "                            })\n",
    "        print(f'Plane found:{mm2}')\n",
    "    except:\n",
    "        try:\n",
    "            article2 = soup.find('div', class_='mw-search-result-heading')\n",
    "            click=article2.text[:-1].replace(' ','_')\n",
    "            browser.click_link_by_href('/wiki/'+click)\n",
    "            time.sleep(2)\n",
    "        except:\n",
    "            print('No clickable link!')\n",
    "        try:\n",
    "            html = browser.html\n",
    "            soup = BeautifulSoup(html, 'html.parser')\n",
    "            article2 = soup.find('p')\n",
    "            text=article2.text.strip()\n",
    "            script=soup.body.find_all('script', type=\"application/ld+json\")[0]\n",
    "            wiki_link=json.loads(script.string)['url']\n",
    "            plane=pd.DataFrame({'Make and Model':[makemodel['Make And Model'][i]],\n",
    "                                'Description':[text],\n",
    "                                'URL':[wiki_link]\n",
    "                                })\n",
    "            print(f'Plane found:{mm2}')\n",
    "        except:\n",
    "            print('did not work')\n",
    "            \n",
    "\n",
    "\n",
    "    planes=planes.append(plane)\n",
    "    if i==9:\n",
    "        break\n",
    "planes"
   ]
  }
 ]
}
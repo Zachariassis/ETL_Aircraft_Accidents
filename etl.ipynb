{
 "metadata": {
  "language_info": {
   "codemirror_mode": {
    "name": "ipython",
    "version": 3
   },
   "file_extension": ".py",
   "mimetype": "text/x-python",
   "name": "python",
   "nbconvert_exporter": "python",
   "pygments_lexer": "ipython3",
   "version": "3.6.10-final"
  },
  "orig_nbformat": 2,
  "kernelspec": {
   "name": "Python 3.6.10 64-bit ('bcs': conda)",
   "display_name": "Python 3.6.10 64-bit ('bcs': conda)",
   "metadata": {
    "interpreter": {
     "hash": "8980c95ba0cda56c67b2f45ffb86ee4cd2bd4d728b2eb108f531dcdbe6ff1b95"
    }
   }
  }
 },
 "nbformat": 4,
 "nbformat_minor": 2,
 "cells": [
  {
   "cell_type": "code",
   "execution_count": 5,
   "metadata": {},
   "outputs": [],
   "source": [
    "import pandas as pd \n"
   ]
  },
  {
   "cell_type": "code",
   "execution_count": 6,
   "metadata": {},
   "outputs": [
    {
     "output_type": "execute_result",
     "data": {
      "text/plain": [
       "         Event.Id Investigation.Type Accident.Number  Event.Date  \\\n",
       "0  20200102X82407           Accident      WPR20CA055  12/31/2019   \n",
       "1  20191231X83852           Accident      CEN20FA049  12/31/2019   \n",
       "2  20200102X54844           Accident      ANC20CA011  12/31/2019   \n",
       "3  20191230X91852           Accident      CEN20CA048  12/30/2019   \n",
       "4  20191228X62945                NaN      WPR20CA053  12/28/2019   \n",
       "\n",
       "        Location        Country   Latitude   Longitude Airport.Code  \\\n",
       "0        Elk, CA  United States  39.128611 -123.715833          LLR   \n",
       "1     OLATHE, KS  United States  38.846111  -94.736111          OJC   \n",
       "2  Fairbanks, AK  United States  64.666945 -148.133334          NaN   \n",
       "3   GRANBURY, TX  United States  32.365556  -97.645000          NaN   \n",
       "4   Missoula, MT  United States        NaN         NaN          MSO   \n",
       "\n",
       "               Airport.Name  ... Purpose.of.Flight Air.Carrier  \\\n",
       "0              Little River  ...          Personal         NaN   \n",
       "1  Johnson County Executive  ...          Personal         NaN   \n",
       "2                       NaN  ...          Personal         NaN   \n",
       "3                       NaN  ...          Personal         NaN   \n",
       "4                       NaN  ...               NaN         NaN   \n",
       "\n",
       "  Total.Fatal.Injuries Total.Serious.Injuries Total.Minor.Injuries  \\\n",
       "0                  NaN                    NaN                  NaN   \n",
       "1                  2.0                    NaN                  NaN   \n",
       "2                  NaN                    NaN                  NaN   \n",
       "3                  NaN                    NaN                  NaN   \n",
       "4                  NaN                    NaN                  NaN   \n",
       "\n",
       "  Total.Uninjured Weather.Condition  Broad.Phase.of.Flight Report.Status  \\\n",
       "0             1.0               VMC                TAKEOFF       Factual   \n",
       "1             NaN               VMC                TAKEOFF   Preliminary   \n",
       "2             2.0               NaN                    NaN   Preliminary   \n",
       "3             1.0               NaN                    NaN   Preliminary   \n",
       "4             NaN               NaN                    NaN   Preliminary   \n",
       "\n",
       "  Publication.Date  \n",
       "0       13/01/2020  \n",
       "1         8/1/2020  \n",
       "2         2/1/2020  \n",
       "3       31/12/2019  \n",
       "4         3/1/2020  \n",
       "\n",
       "[5 rows x 31 columns]"
      ],
      "text/html": "<div>\n<style scoped>\n    .dataframe tbody tr th:only-of-type {\n        vertical-align: middle;\n    }\n\n    .dataframe tbody tr th {\n        vertical-align: top;\n    }\n\n    .dataframe thead th {\n        text-align: right;\n    }\n</style>\n<table border=\"1\" class=\"dataframe\">\n  <thead>\n    <tr style=\"text-align: right;\">\n      <th></th>\n      <th>Event.Id</th>\n      <th>Investigation.Type</th>\n      <th>Accident.Number</th>\n      <th>Event.Date</th>\n      <th>Location</th>\n      <th>Country</th>\n      <th>Latitude</th>\n      <th>Longitude</th>\n      <th>Airport.Code</th>\n      <th>Airport.Name</th>\n      <th>...</th>\n      <th>Purpose.of.Flight</th>\n      <th>Air.Carrier</th>\n      <th>Total.Fatal.Injuries</th>\n      <th>Total.Serious.Injuries</th>\n      <th>Total.Minor.Injuries</th>\n      <th>Total.Uninjured</th>\n      <th>Weather.Condition</th>\n      <th>Broad.Phase.of.Flight</th>\n      <th>Report.Status</th>\n      <th>Publication.Date</th>\n    </tr>\n  </thead>\n  <tbody>\n    <tr>\n      <th>0</th>\n      <td>20200102X82407</td>\n      <td>Accident</td>\n      <td>WPR20CA055</td>\n      <td>12/31/2019</td>\n      <td>Elk, CA</td>\n      <td>United States</td>\n      <td>39.128611</td>\n      <td>-123.715833</td>\n      <td>LLR</td>\n      <td>Little River</td>\n      <td>...</td>\n      <td>Personal</td>\n      <td>NaN</td>\n      <td>NaN</td>\n      <td>NaN</td>\n      <td>NaN</td>\n      <td>1.0</td>\n      <td>VMC</td>\n      <td>TAKEOFF</td>\n      <td>Factual</td>\n      <td>13/01/2020</td>\n    </tr>\n    <tr>\n      <th>1</th>\n      <td>20191231X83852</td>\n      <td>Accident</td>\n      <td>CEN20FA049</td>\n      <td>12/31/2019</td>\n      <td>OLATHE, KS</td>\n      <td>United States</td>\n      <td>38.846111</td>\n      <td>-94.736111</td>\n      <td>OJC</td>\n      <td>Johnson County Executive</td>\n      <td>...</td>\n      <td>Personal</td>\n      <td>NaN</td>\n      <td>2.0</td>\n      <td>NaN</td>\n      <td>NaN</td>\n      <td>NaN</td>\n      <td>VMC</td>\n      <td>TAKEOFF</td>\n      <td>Preliminary</td>\n      <td>8/1/2020</td>\n    </tr>\n    <tr>\n      <th>2</th>\n      <td>20200102X54844</td>\n      <td>Accident</td>\n      <td>ANC20CA011</td>\n      <td>12/31/2019</td>\n      <td>Fairbanks, AK</td>\n      <td>United States</td>\n      <td>64.666945</td>\n      <td>-148.133334</td>\n      <td>NaN</td>\n      <td>NaN</td>\n      <td>...</td>\n      <td>Personal</td>\n      <td>NaN</td>\n      <td>NaN</td>\n      <td>NaN</td>\n      <td>NaN</td>\n      <td>2.0</td>\n      <td>NaN</td>\n      <td>NaN</td>\n      <td>Preliminary</td>\n      <td>2/1/2020</td>\n    </tr>\n    <tr>\n      <th>3</th>\n      <td>20191230X91852</td>\n      <td>Accident</td>\n      <td>CEN20CA048</td>\n      <td>12/30/2019</td>\n      <td>GRANBURY, TX</td>\n      <td>United States</td>\n      <td>32.365556</td>\n      <td>-97.645000</td>\n      <td>NaN</td>\n      <td>NaN</td>\n      <td>...</td>\n      <td>Personal</td>\n      <td>NaN</td>\n      <td>NaN</td>\n      <td>NaN</td>\n      <td>NaN</td>\n      <td>1.0</td>\n      <td>NaN</td>\n      <td>NaN</td>\n      <td>Preliminary</td>\n      <td>31/12/2019</td>\n    </tr>\n    <tr>\n      <th>4</th>\n      <td>20191228X62945</td>\n      <td>NaN</td>\n      <td>WPR20CA053</td>\n      <td>12/28/2019</td>\n      <td>Missoula, MT</td>\n      <td>United States</td>\n      <td>NaN</td>\n      <td>NaN</td>\n      <td>MSO</td>\n      <td>NaN</td>\n      <td>...</td>\n      <td>NaN</td>\n      <td>NaN</td>\n      <td>NaN</td>\n      <td>NaN</td>\n      <td>NaN</td>\n      <td>NaN</td>\n      <td>NaN</td>\n      <td>NaN</td>\n      <td>Preliminary</td>\n      <td>3/1/2020</td>\n    </tr>\n  </tbody>\n</table>\n<p>5 rows × 31 columns</p>\n</div>"
     },
     "metadata": {},
     "execution_count": 6
    }
   ],
   "source": [
    "data = pd.read_csv(\"Resources/aviation.csv\",encoding='latin1')\n",
    "data.head()"
   ]
  },
  {
   "cell_type": "code",
   "execution_count": 7,
   "metadata": {},
   "outputs": [
    {
     "output_type": "execute_result",
     "data": {
      "text/plain": [
       "   Event.Date        Country       Location    Make  Model Amateur.Built  \\\n",
       "0  12/31/2019  United States        Elk, CA  Cessna    175            No   \n",
       "1  12/31/2019  United States     OLATHE, KS  Mooney   M20S            No   \n",
       "2  12/31/2019  United States  Fairbanks, AK  Cessna    170            No   \n",
       "3  12/30/2019  United States   GRANBURY, TX    Vans  RV 10           Yes   \n",
       "4  12/28/2019  United States   Missoula, MT  Cessna    170            No   \n",
       "\n",
       "  Injury.Severity Aircraft.Damage   Latitude   Longitude  \n",
       "0       Non-Fatal     Substantial  39.128611 -123.715833  \n",
       "1        Fatal(2)       Destroyed  38.846111  -94.736111  \n",
       "2       Non-Fatal     Substantial  64.666945 -148.133334  \n",
       "3       Non-Fatal     Substantial  32.365556  -97.645000  \n",
       "4     Unavailable     Substantial        NaN         NaN  "
      ],
      "text/html": "<div>\n<style scoped>\n    .dataframe tbody tr th:only-of-type {\n        vertical-align: middle;\n    }\n\n    .dataframe tbody tr th {\n        vertical-align: top;\n    }\n\n    .dataframe thead th {\n        text-align: right;\n    }\n</style>\n<table border=\"1\" class=\"dataframe\">\n  <thead>\n    <tr style=\"text-align: right;\">\n      <th></th>\n      <th>Event.Date</th>\n      <th>Country</th>\n      <th>Location</th>\n      <th>Make</th>\n      <th>Model</th>\n      <th>Amateur.Built</th>\n      <th>Injury.Severity</th>\n      <th>Aircraft.Damage</th>\n      <th>Latitude</th>\n      <th>Longitude</th>\n    </tr>\n  </thead>\n  <tbody>\n    <tr>\n      <th>0</th>\n      <td>12/31/2019</td>\n      <td>United States</td>\n      <td>Elk, CA</td>\n      <td>Cessna</td>\n      <td>175</td>\n      <td>No</td>\n      <td>Non-Fatal</td>\n      <td>Substantial</td>\n      <td>39.128611</td>\n      <td>-123.715833</td>\n    </tr>\n    <tr>\n      <th>1</th>\n      <td>12/31/2019</td>\n      <td>United States</td>\n      <td>OLATHE, KS</td>\n      <td>Mooney</td>\n      <td>M20S</td>\n      <td>No</td>\n      <td>Fatal(2)</td>\n      <td>Destroyed</td>\n      <td>38.846111</td>\n      <td>-94.736111</td>\n    </tr>\n    <tr>\n      <th>2</th>\n      <td>12/31/2019</td>\n      <td>United States</td>\n      <td>Fairbanks, AK</td>\n      <td>Cessna</td>\n      <td>170</td>\n      <td>No</td>\n      <td>Non-Fatal</td>\n      <td>Substantial</td>\n      <td>64.666945</td>\n      <td>-148.133334</td>\n    </tr>\n    <tr>\n      <th>3</th>\n      <td>12/30/2019</td>\n      <td>United States</td>\n      <td>GRANBURY, TX</td>\n      <td>Vans</td>\n      <td>RV 10</td>\n      <td>Yes</td>\n      <td>Non-Fatal</td>\n      <td>Substantial</td>\n      <td>32.365556</td>\n      <td>-97.645000</td>\n    </tr>\n    <tr>\n      <th>4</th>\n      <td>12/28/2019</td>\n      <td>United States</td>\n      <td>Missoula, MT</td>\n      <td>Cessna</td>\n      <td>170</td>\n      <td>No</td>\n      <td>Unavailable</td>\n      <td>Substantial</td>\n      <td>NaN</td>\n      <td>NaN</td>\n    </tr>\n  </tbody>\n</table>\n</div>"
     },
     "metadata": {},
     "execution_count": 7
    }
   ],
   "source": [
    "aviation_data = data[['Event.Date', 'Country', 'Location', 'Make', 'Model','Amateur.Built', 'Injury.Severity', 'Aircraft.Damage' ,'Latitude', 'Longitude' ]]\n",
    "aviation_data.head()"
   ]
  },
  {
   "cell_type": "code",
   "execution_count": 8,
   "metadata": {},
   "outputs": [
    {
     "output_type": "execute_result",
     "data": {
      "text/plain": [
       "   Event.Date        Country       Location    Make   Model Injury.Severity  \\\n",
       "0  12/31/2019  United States        Elk, CA  Cessna     175       Non-Fatal   \n",
       "1  12/31/2019  United States     OLATHE, KS  Mooney    M20S        Fatal(2)   \n",
       "2  12/31/2019  United States  Fairbanks, AK  Cessna     170       Non-Fatal   \n",
       "5  12/28/2019  United States  LAFAYETTE, LA   Piper  PA 31T        Fatal(5)   \n",
       "6  12/25/2019  United States   Headland, AL    Bell     407        Fatal(1)   \n",
       "\n",
       "  Aircraft.Damage   Latitude   Longitude  \n",
       "0     Substantial  39.128611 -123.715833  \n",
       "1       Destroyed  38.846111  -94.736111  \n",
       "2     Substantial  64.666945 -148.133334  \n",
       "5       Destroyed  30.176111  -92.007500  \n",
       "6     Substantial  31.364167  -85.312500  "
      ],
      "text/html": "<div>\n<style scoped>\n    .dataframe tbody tr th:only-of-type {\n        vertical-align: middle;\n    }\n\n    .dataframe tbody tr th {\n        vertical-align: top;\n    }\n\n    .dataframe thead th {\n        text-align: right;\n    }\n</style>\n<table border=\"1\" class=\"dataframe\">\n  <thead>\n    <tr style=\"text-align: right;\">\n      <th></th>\n      <th>Event.Date</th>\n      <th>Country</th>\n      <th>Location</th>\n      <th>Make</th>\n      <th>Model</th>\n      <th>Injury.Severity</th>\n      <th>Aircraft.Damage</th>\n      <th>Latitude</th>\n      <th>Longitude</th>\n    </tr>\n  </thead>\n  <tbody>\n    <tr>\n      <th>0</th>\n      <td>12/31/2019</td>\n      <td>United States</td>\n      <td>Elk, CA</td>\n      <td>Cessna</td>\n      <td>175</td>\n      <td>Non-Fatal</td>\n      <td>Substantial</td>\n      <td>39.128611</td>\n      <td>-123.715833</td>\n    </tr>\n    <tr>\n      <th>1</th>\n      <td>12/31/2019</td>\n      <td>United States</td>\n      <td>OLATHE, KS</td>\n      <td>Mooney</td>\n      <td>M20S</td>\n      <td>Fatal(2)</td>\n      <td>Destroyed</td>\n      <td>38.846111</td>\n      <td>-94.736111</td>\n    </tr>\n    <tr>\n      <th>2</th>\n      <td>12/31/2019</td>\n      <td>United States</td>\n      <td>Fairbanks, AK</td>\n      <td>Cessna</td>\n      <td>170</td>\n      <td>Non-Fatal</td>\n      <td>Substantial</td>\n      <td>64.666945</td>\n      <td>-148.133334</td>\n    </tr>\n    <tr>\n      <th>5</th>\n      <td>12/28/2019</td>\n      <td>United States</td>\n      <td>LAFAYETTE, LA</td>\n      <td>Piper</td>\n      <td>PA 31T</td>\n      <td>Fatal(5)</td>\n      <td>Destroyed</td>\n      <td>30.176111</td>\n      <td>-92.007500</td>\n    </tr>\n    <tr>\n      <th>6</th>\n      <td>12/25/2019</td>\n      <td>United States</td>\n      <td>Headland, AL</td>\n      <td>Bell</td>\n      <td>407</td>\n      <td>Fatal(1)</td>\n      <td>Substantial</td>\n      <td>31.364167</td>\n      <td>-85.312500</td>\n    </tr>\n  </tbody>\n</table>\n</div>"
     },
     "metadata": {},
     "execution_count": 8
    }
   ],
   "source": [
    "us_data = aviation_data[aviation_data['Country']=='United States']\n",
    "us_data = us_data.dropna()\n",
    "us_data_pro = us_data[us_data['Amateur.Built'] == 'No']\n",
    "us_data_clean = us_data_pro.drop('Amateur.Built', 1)\n",
    "us_data_clean.head()"
   ]
  },
  {
   "cell_type": "code",
   "execution_count": 31,
   "metadata": {},
   "outputs": [
    {
     "output_type": "execute_result",
     "data": {
      "text/plain": [
       "         Date        Country     City_State    Make   Model Injury_Severity  \\\n",
       "0  12/31/2019  United States        Elk, CA  Cessna     175       Non-Fatal   \n",
       "1  12/31/2019  United States     OLATHE, KS  Mooney    M20S        Fatal(2)   \n",
       "2  12/31/2019  United States  Fairbanks, AK  Cessna     170       Non-Fatal   \n",
       "5  12/28/2019  United States  LAFAYETTE, LA   Piper  PA 31T        Fatal(5)   \n",
       "6  12/25/2019  United States   Headland, AL    Bell     407        Fatal(1)   \n",
       "\n",
       "  Aircraft_Damage   Latitude   Longitude  \n",
       "0     Substantial  39.128611 -123.715833  \n",
       "1       Destroyed  38.846111  -94.736111  \n",
       "2     Substantial  64.666945 -148.133334  \n",
       "5       Destroyed  30.176111  -92.007500  \n",
       "6     Substantial  31.364167  -85.312500  "
      ],
      "text/html": "<div>\n<style scoped>\n    .dataframe tbody tr th:only-of-type {\n        vertical-align: middle;\n    }\n\n    .dataframe tbody tr th {\n        vertical-align: top;\n    }\n\n    .dataframe thead th {\n        text-align: right;\n    }\n</style>\n<table border=\"1\" class=\"dataframe\">\n  <thead>\n    <tr style=\"text-align: right;\">\n      <th></th>\n      <th>Date</th>\n      <th>Country</th>\n      <th>City_State</th>\n      <th>Make</th>\n      <th>Model</th>\n      <th>Injury_Severity</th>\n      <th>Aircraft_Damage</th>\n      <th>Latitude</th>\n      <th>Longitude</th>\n    </tr>\n  </thead>\n  <tbody>\n    <tr>\n      <th>0</th>\n      <td>12/31/2019</td>\n      <td>United States</td>\n      <td>Elk, CA</td>\n      <td>Cessna</td>\n      <td>175</td>\n      <td>Non-Fatal</td>\n      <td>Substantial</td>\n      <td>39.128611</td>\n      <td>-123.715833</td>\n    </tr>\n    <tr>\n      <th>1</th>\n      <td>12/31/2019</td>\n      <td>United States</td>\n      <td>OLATHE, KS</td>\n      <td>Mooney</td>\n      <td>M20S</td>\n      <td>Fatal(2)</td>\n      <td>Destroyed</td>\n      <td>38.846111</td>\n      <td>-94.736111</td>\n    </tr>\n    <tr>\n      <th>2</th>\n      <td>12/31/2019</td>\n      <td>United States</td>\n      <td>Fairbanks, AK</td>\n      <td>Cessna</td>\n      <td>170</td>\n      <td>Non-Fatal</td>\n      <td>Substantial</td>\n      <td>64.666945</td>\n      <td>-148.133334</td>\n    </tr>\n    <tr>\n      <th>5</th>\n      <td>12/28/2019</td>\n      <td>United States</td>\n      <td>LAFAYETTE, LA</td>\n      <td>Piper</td>\n      <td>PA 31T</td>\n      <td>Fatal(5)</td>\n      <td>Destroyed</td>\n      <td>30.176111</td>\n      <td>-92.007500</td>\n    </tr>\n    <tr>\n      <th>6</th>\n      <td>12/25/2019</td>\n      <td>United States</td>\n      <td>Headland, AL</td>\n      <td>Bell</td>\n      <td>407</td>\n      <td>Fatal(1)</td>\n      <td>Substantial</td>\n      <td>31.364167</td>\n      <td>-85.312500</td>\n    </tr>\n  </tbody>\n</table>\n</div>"
     },
     "metadata": {},
     "execution_count": 31
    }
   ],
   "source": [
    "aviation_renamed = us_data_clean.rename(columns={ 'Event.Date': 'Date', 'Location':'City_State','Injury.Severity': 'Injury_Severity', 'Aircraft.Damage':'Aircraft_Damage'  })\n",
    "aviation_renamed.head()"
   ]
  },
  {
   "cell_type": "code",
   "execution_count": 32,
   "metadata": {},
   "outputs": [],
   "source": [
    "from sqlalchemy import create_engine\n",
    "import sqlite3\n",
    "\n"
   ]
  },
  {
   "cell_type": "code",
   "execution_count": 39,
   "metadata": {},
   "outputs": [],
   "source": [
    "conn = sqlite3.connect('aviation_incidence.sql')\n",
    "c = conn.cursor()\n",
    "c.execute('CREATE TABLE AVIATION (Date, Country, City_State, Make, Model, Injury_Severity, Aircraft_Damage,Latitude, Longitude)')\n",
    "conn.commit()"
   ]
  },
  {
   "cell_type": "code",
   "execution_count": 40,
   "metadata": {},
   "outputs": [],
   "source": [
    "aviation_renamed.to_sql('AVIATION', conn, if_exists='replace', index = False)"
   ]
  },
  {
   "cell_type": "code",
   "execution_count": 41,
   "metadata": {
    "tags": [
     "outputPrepend"
    ]
   },
   "outputs": [
    {
     "output_type": "stream",
     "name": "stdout",
     "text": [
      "', 'Substantial', 33.214166999999996, -96.747777)\n",
      "('1/8/2001', 'United States', 'Bluefield, WV', 'Cessna', '310R', 'Fatal(1)', 'Destroyed', 37.283889, -81.20611099999999)\n",
      "('1/8/2001', 'United States', 'WC 368, GM', 'Bell', '206-L3', 'Incident', 'Minor', 28.9025, -93.28277800000001)\n",
      "('1/8/2001', 'United States', 'Mineral Wells, TX', 'Bell', '206B', 'Fatal(1)', 'Substantial', 32.758055999999996, -98.089166)\n",
      "('1/7/2001', 'United States', 'Jacksonville, FL', 'Mooney', 'M-20C', 'Non-Fatal', 'Substantial', 30.493610999999998, -81.690833)\n",
      "('1/7/2001', 'United States', 'Perry, FL', 'Maule', 'MXT-7-180A', 'Non-Fatal', 'Substantial', 30.071111, -83.582223)\n",
      "('1/7/2001', 'United States', 'Concord, NH', 'Cessna', '172P', 'Non-Fatal', 'Substantial', 43.201667, -71.502222)\n",
      "('1/6/2001', 'United States', 'Spanish Fork, UT', 'Cessna', '152', 'Non-Fatal', 'Destroyed', 40.184444, -111.703333)\n",
      "('1/5/2001', 'United States', 'Livermore, CA', 'Cessna', '152', 'Non-Fatal', 'Substantial', 37.683333000000005, -121.822778)\n",
      "('1/5/2001', 'United States', 'DEL RIO, TX', 'Cessna', '177RG', 'Non-Fatal', 'Substantial', 30.0, -100.0)\n",
      "('1/4/2001', 'United States', 'Schenectady, NY', 'Learjet', '35', 'Non-Fatal', 'Substantial', 42.852222, -73.928611)\n",
      "('1/4/2001', 'United States', 'BRISTOW, OK', 'Cessna', '152', 'Non-Fatal', 'Substantial', 35.144721999999994, -96.425278)\n",
      "('1/4/2001', 'United States', 'Eden, UT', 'Aviat', 'A-1A', 'Non-Fatal', 'Substantial', 41.300278000000006, -111.81694499999999)\n",
      "('1/3/2001', 'United States', 'Atmautluak, AK', 'Cessna', '172', 'Non-Fatal', 'Substantial', 60.86666700000001, -162.2775)\n",
      "('1/2/2001', 'United States', 'Naples, FL', 'Beech', '200', 'Non-Fatal', 'Substantial', 26.1525, -81.77555600000001)\n",
      "('12/29/2000', 'United States', 'Farmville, VA', 'Cessna', '172M', 'Non-Fatal', 'Substantial', 37.3575, -78.437777)\n",
      "('12/29/2000', 'United States', 'Charlottesville, VA', 'Jetstream', '4101', 'Non-Fatal', 'Substantial', 38.133333, -78.45)\n",
      "('12/29/2000', 'United States', 'Gilchrist, TX', 'Bell', '407', 'Fatal(1)', 'Destroyed', 29.4325, -94.54305500000001)\n",
      "('12/28/2000', 'United States', 'HERMISTON, OR', 'Grumman', 'G-44', 'Non-Fatal', 'Substantial', 45.816666999999995, -119.25)\n",
      "('12/28/2000', 'United States', 'PIERCE, ID', 'Hughes', '369HS', 'Fatal(2)', 'Substantial', 46.363056, -115.31638899999999)\n",
      "('12/27/2000', 'United States', 'Jamaica, NY', 'McDonnell Douglas', 'DC-9-51', 'Non-Fatal', 'Substantial', 40.631945, -73.779445)\n",
      "('12/27/2000', 'United States', 'Morganton, NC', 'Cessna', '305A', 'Non-Fatal', 'Substantial', 35.824723, -81.611111)\n",
      "('12/27/2000', 'United States', 'Longmont, CO', 'Piper', 'PA-18-135', 'Non-Fatal', 'Substantial', 40.163610999999996, -105.16305600000001)\n",
      "('12/27/2000', 'United States', 'JUNEAU, AK', 'Champion', '8GCBC', 'Fatal(2)', 'Destroyed', 58.358332999999995, -134.582778)\n",
      "('12/24/2000', 'United States', 'Norwood, MA', 'Rockwell', '112A', 'Non-Fatal', 'Substantial', 42.1925, -71.175834)\n",
      "('12/24/2000', 'United States', 'ALBUQUERQUE, NM', 'Beech', 'V35B', 'Fatal(2)', 'Substantial', 35.038610999999996, -106.603889)\n",
      "('12/22/2000', 'United States', 'Kirkland, WA', 'de Havilland', 'DHC-2 Mk. I', 'Non-Fatal', 'Substantial', 47.718334000000006, -122.198333)\n",
      "('12/22/2000', 'United States', 'Rangeley, ME', 'Beech', 'B200', 'Fatal(2)', 'Destroyed', 44.883333, -70.638889)\n",
      "('12/20/2000', 'United States', 'KENAI, AK', 'Curtis-Wright', 'C46A', 'Fatal(2)', 'Destroyed', 60.36305600000001, -152.616945)\n",
      "('12/18/2000', 'United States', 'West Mifflin, PA', 'Aerospatiale', 'SA365-N1', 'Non-Fatal', 'Destroyed', 40.354167, -79.925)\n",
      "('12/18/2000', 'United States', 'MEDFORD, NJ', 'Cessna', '172M', 'Non-Fatal', 'Substantial', 39.934166, -74.807222)\n",
      "('12/15/2000', 'United States', 'LUSK, WY', 'Cessna', '172', 'Fatal(2)', 'Substantial', 42.785, -104.217223)\n",
      "('12/14/2000', 'United States', 'Weston, FL', 'Christen Industries', 'Pitts S-2B', 'Fatal(2)', 'Substantial', 26.148611, -80.635)\n",
      "('12/12/2000', 'United States', 'Lancaster, CA', 'Cessna', '182P', 'Fatal(1)', 'Destroyed', 34.726667, -118.23583300000001)\n",
      "('12/9/2000', 'United States', 'PETALUMA, CA', 'Cessna', 'TR182', 'Fatal(1)', 'Destroyed', 38.272223, -122.53416599999998)\n",
      "('11/30/2000', 'United States', 'Clifton, AZ', 'Beech', 'BE-55-D55', 'Fatal(1)', 'Destroyed', 32.960833, -109.22555600000001)\n",
      "('11/24/2000', 'United States', 'LYNCHBURG, VA', 'Beech', 'F90', 'Non-Fatal', 'Destroyed', 37.333333, -79.2)\n",
      "('11/21/2000', 'United States', 'Wewahitchka, FL', 'Piper', 'PA-32RT-300', 'Non-Fatal', 'Substantial', 30.166666999999997, -85.233333)\n",
      "('11/20/2000', 'United States', 'MIAMI, FL', 'Airbus Industrie', 'A300B4-605R', 'Fatal(1)', 'Minor', 25.815, -80.296666)\n",
      "('11/16/2000', 'United States', 'Cambridge, ID', 'Cessna', 'U206F', 'Fatal(2)', 'Destroyed', 44.633333, -117.003056)\n",
      "('11/16/2000', 'United States', 'Frostproof, FL', 'Aerofab Inc.', 'Lake Seawolf', 'Non-Fatal', 'Substantial', 27.784444, -81.636944)\n",
      "('11/16/2000', 'United States', 'BRADENTON, FL', 'Cessna', '172N', 'Fatal(1)', 'Destroyed', 27.435, -82.45)\n",
      "('11/16/2000', 'United States', 'BRADENTON, FL', 'Lockheed-Martin', 'F-16CG', 'Fatal(1)', 'Destroyed', 27.435, -82.45)\n",
      "('11/15/2000', 'United States', 'JENA, LA', 'Cessna', '185F', 'Fatal(1)', 'Destroyed', 31.785277, -92.168056)\n",
      "('11/10/2000', 'United States', 'IDAHO FALLS, ID', 'Cessna', '425', 'Fatal(2)', 'Substantial', 43.536389, -112.063056)\n",
      "('11/4/2000', 'United States', 'St. Marys, GA', 'Maule', 'MX-7-180A', 'Non-Fatal', 'Substantial', 30.757778000000002, -81.56222199999999)\n",
      "('11/4/2000', 'United States', 'Inverness, FL', 'Cessna', '172P', 'Non-Fatal', 'Substantial', 28.814444, -82.316389)\n",
      "('10/31/2000', 'United States', 'Zolfo Springs, FL', 'Piper', 'PA-28-181', 'Fatal(1)', 'Substantial', 27.459721999999996, -81.81277800000001)\n",
      "('10/30/2000', 'United States', 'Gorman, CA', 'Piper', 'PA-28-140', 'Fatal(1)', 'Substantial', 34.793889, -118.852222)\n",
      "('10/28/2000', 'United States', 'E. Cameron 200, GM', 'Aerospatiale', 'AS-350BA', 'Fatal(1)', 'Destroyed', 28.738055, -92.63)\n",
      "('10/25/2000', 'United States', 'OKLAHOMA CITY, OK', 'Cessna', '210', 'Fatal(1)', 'Destroyed', 35.379445000000004, -97.596111)\n",
      "('10/23/2000', 'United States', 'Wheaton Springs, CA', 'Mooney', 'M-20J', 'Fatal(2)', 'Destroyed', 35.443333, -115.463333)\n",
      "('10/22/2000', 'United States', 'HALF MOON BAY, CA', 'Cessna', '172P', 'Non-Fatal', 'Substantial', 37.513889, -122.50111100000001)\n",
      "('10/22/2000', 'United States', 'BETHEL, AK', 'Beech', '1900D', 'Non-Fatal', 'Substantial', 60.766667000000005, -161.841111)\n",
      "('10/21/2000', 'United States', 'MCCLURE, PA', 'Cessna', '140', 'Non-Fatal', 'Substantial', 40.746111, -77.290277)\n",
      "('10/19/2000', 'United States', 'Concord, CA', 'Beech', '300', 'Non-Fatal', 'Substantial', 37.989722, -122.056944)\n",
      "('10/15/2000', 'United States', 'Monterey, CA', 'Beech', '35-33', 'Fatal(2)', 'Destroyed', 36.612778000000006, -121.87111100000001)\n",
      "('10/15/2000', 'United States', 'BERRYVILLE, VA', 'Yakovlev', '52', 'Non-Fatal', 'Substantial', 39.235277, -78.011667)\n",
      "('10/13/2000', 'United States', 'Henderson, NV', 'Navion', 'G', 'Fatal(1)', 'Destroyed', 35.966667, -115.11666699999999)\n",
      "('10/11/2000', 'United States', 'PHILADELPHIA, PA', 'American Aviation Corp. (AAC)', 'AA-1A', 'Non-Fatal', 'Substantial', 40.066666999999995, -75.0)\n",
      "('10/10/2000', 'United States', 'WASH. CT. HOUSE, OH', 'Beech', 'E18S', 'Fatal(1)', 'Destroyed', 35.585, -83.408889)\n",
      "('10/10/2000', 'United States', 'Wichita, KS', 'Canadair', 'CL600-2B16', 'Fatal(2)', 'Destroyed', 37.65, -97.43305600000001)\n",
      "('10/8/2000', 'United States', 'Noblesville, IN', 'Cessna', '182', 'Non-Fatal', 'Substantial', 40.083889, -86.034722)\n",
      "('10/6/2000', 'United States', 'Edgartown, MA', 'Mitsubishi', 'MU-2B-26A', 'Fatal(4)', 'Destroyed', 41.411111, -70.416667)\n",
      "('10/6/2000', 'United States', 'San Dimas, CA', 'Piper', 'PA-34-200', 'Fatal(2)', 'Destroyed', 34.149165999999994, -117.78333300000001)\n",
      "('10/4/2000', 'United States', 'SANTA ROSA, CA', 'Cessna', '182S', 'Fatal(1)', 'Destroyed', 38.513056, -122.862222)\n",
      "('10/1/2000', 'United States', 'SAN JUAN BATIST, CA', 'Beech', 'A36TC', 'Fatal(4)', 'Destroyed', 36.828334000000005, -121.57638899999999)\n",
      "('9/29/2000', 'United States', 'Phoenix, AZ', 'Hughes', 'TH-55A', 'Non-Fatal', 'Substantial', 33.691666, -112.082223)\n",
      "('9/27/2000', 'United States', 'OWINGSVILLE, KY', 'Cessna', '182Q', 'Non-Fatal', 'Substantial', 38.116667, -83.75)\n",
      "('9/25/2000', 'United States', 'IONE, CA', 'Culver', 'LFA', 'Non-Fatal', 'Destroyed', 38.255, -120.933333)\n",
      "('9/20/2000', 'United States', 'ANIAK, AK', 'Cessna', '207', 'Fatal(1)', 'Destroyed', 61.040277, -157.173056)\n",
      "('9/18/2000', 'United States', 'NUIQSUT, AK', 'Piper', 'PA-31T3', 'Fatal(5)', 'Destroyed', 70.205556, -151.01916699999998)\n",
      "('9/14/2000', 'United States', 'Belleville, MI', 'Cessna', '208B', 'Non-Fatal', 'Substantial', 42.236389, -83.5275)\n",
      "('9/7/2000', 'United States', 'WAYNESVILLE, NC', 'Bell', 'UH-1H', 'Fatal(2)', 'Destroyed', 35.438055, -83.060556)\n",
      "('9/4/2000', 'United States', 'ODESSA, FL', 'Beech', 'B-95', 'Fatal(1)', 'Substantial', 28.22, -82.623334)\n",
      "('9/3/2000', 'United States', 'SOUTH KINGSTOWN, RI', 'Piper', 'PA-32R-301', 'Fatal(3)', 'Destroyed', 41.4375, -71.541944)\n",
      "('9/1/2000', 'United States', 'SO. LAKE TAHOE, CA', 'Piper', 'PA-46-310P', 'Fatal(4)', 'Destroyed', 38.893889, -119.995277)\n",
      "('8/29/2000', 'United States', 'JONESTOWN, PA', 'Mooney', 'M20F', 'Fatal(1)', 'Destroyed', 40.403611, -76.225)\n",
      "('8/25/2000', 'United States', 'Hilo, HI', 'Piper', 'PA-31-350', 'Fatal(1)', 'Substantial', 19.716667, -155.033333)\n",
      "('8/24/2000', 'United States', 'HUNT, TX', 'Cessna', '421C', 'Fatal(1)', 'Destroyed', 30.0, -99.383611)\n",
      "('8/22/2000', 'United States', 'Scottsdale, AZ', 'Bellanca', '17-30', 'Fatal(2)', 'Destroyed', 33.642777, -111.8175)\n",
      "('8/18/2000', 'United States', 'WATSONVILLE, CA', 'Robinson', 'R22 BETA', 'Fatal(2)', 'Destroyed', 36.895555, -121.79416599999999)\n",
      "('8/18/2000', 'United States', 'KENNEBUNKPORT, ME', 'Piper', 'PA-32R-301', 'Fatal(2)', 'Substantial', 43.2, -70.233333)\n",
      "('8/15/2000', 'United States', 'MCMINNVILLE, OR', 'Boeing', 'E75', 'Non-Fatal', 'Substantial', 45.183333000000005, -123.13333300000001)\n",
      "('8/14/2000', 'United States', 'NEWBERRY SPRING, CA', 'Beech', 'K35', 'Fatal(1)', 'Destroyed', 34.7925, -116.48583300000001)\n",
      "('8/13/2000', 'United States', 'Cold Springs, NV', 'Bell', '412', 'Fatal(1)', 'Destroyed', 39.566666999999995, -117.815556)\n",
      "('8/4/2000', 'United States', 'Stockton, CA', 'Bell', '47D', 'Non-Fatal', 'Substantial', 37.894444, -121.238611)\n",
      "('8/4/2000', 'United States', 'DAVIS, CA', 'Piper', 'PA-30', 'Non-Fatal', 'Substantial', 38.344444, -121.810556)\n",
      "('8/1/2000', 'United States', 'TRACY, CA', 'Grumman', 'G-164B', 'Fatal(1)', 'Destroyed', 37.831945000000005, -121.403056)\n",
      "('7/31/2000', 'United States', 'RALEIGH, NC', 'de Havilland', 'DHC-6-200', 'Fatal(1)', 'Destroyed', 35.849722, -78.751111)\n",
      "('7/30/2000', 'United States', 'JACKPOT, NV', 'Mooney', 'M20E', 'Fatal(2)', 'Destroyed', 41.982223, -114.66361100000002)\n",
      "('7/27/2000', 'United States', 'Cheyenne, WY', 'Mooney', 'M20K', 'Fatal(1)', 'Destroyed', 41.011666999999996, -105.10888899999999)\n",
      "('7/21/2000', 'United States', 'KAHULUI, MAUI, HI', 'Aerospatiale', 'AS 355F1', 'Fatal(7)', 'Destroyed', 20.871667000000002, -156.58166699999998)\n",
      "('7/17/2000', 'United States', 'Hernando, MS', 'Beech', '58', 'Fatal(1)', 'Destroyed', 34.747777, -90.08111099999999)\n",
      "('7/9/2000', 'United States', 'Watsonville, CA', 'Interavia', 'E-3', 'Non-Fatal', 'Substantial', 36.916667, -121.83333300000001)\n",
      "('7/8/2000', 'United States', 'Aspen, CO', 'Cessna', '195', 'Fatal(4)', 'Destroyed', 39.24, -106.71166699999999)\n",
      "('7/6/2000', 'United States', 'TUCSON, AZ', 'Piper', 'PA-28-180', 'Non-Fatal', 'Substantial', 32.115833, -110.94083300000001)\n",
      "('7/3/2000', 'United States', 'WHITTIER, AK', 'Cessna', '172S', 'Fatal(1)', 'Destroyed', 60.8, -148.25)\n",
      "('7/2/2000', 'United States', 'SELMA, AL', 'Gulfstream American', 'AA5A', 'Non-Fatal', 'Substantial', 32.343889000000004, -86.98777700000001)\n",
      "('7/1/2000', 'United States', 'BELZONI, MS', 'Cessna', 'A188B', 'Non-Fatal', 'Substantial', 33.145277, -90.51527800000001)\n",
      "('6/15/2000', 'United States', 'SAN JOSE, CA', 'Bellanca', '8KCAB', 'Fatal(1)', 'Destroyed', 37.231389, -121.665833)\n",
      "('6/14/2000', 'United States', 'Lihue, Kauai, HI', 'McDonnell Douglas', 'DC-9-51', 'Non-Fatal', 'Substantial', 21.976111, -159.338889)\n",
      "('6/10/2000', 'United States', 'WELLINGTON, NV', 'Sikorsky', 'HH-3F', 'Non-Fatal', 'Substantial', 38.612778000000006, -119.392222)\n",
      "('6/8/2000', 'United States', 'Baker, CA', 'Mooney', 'M20D', 'Non-Fatal', 'Substantial', 35.043611, -116.19333300000001)\n",
      "('6/4/2000', 'United States', 'CARSON CITY, NV', 'Mooney', 'M20J', 'Non-Fatal', 'Substantial', 39.192221999999994, -119.734444)\n",
      "('6/1/2000', 'United States', 'WEST MILFORD, NJ', 'Beech', '19', 'Non-Fatal', 'Substantial', 41.078056, -74.346666)\n",
      "('6/1/2000', 'United States', 'Prescott Valley, AZ', 'Cessna', '414A', 'Non-Fatal', 'Substantial', 34.6, -112.25)\n",
      "('5/31/2000', 'United States', 'LONG BEACH, CA', 'Piper', 'PA-28-140', 'Non-Fatal', 'Substantial', 33.817778000000004, -118.15166699999999)\n",
      "('5/21/2000', 'United States', 'Bear Creek Town, PA', 'British Aerospace', 'J-3101', 'Fatal(19)', 'Destroyed', 41.153889, -75.758889)\n",
      "('5/15/2000', 'United States', 'SHOW LOW, AZ', 'Beech', 'H35', 'Non-Fatal', 'Substantial', 34.265278, -110.005556)\n",
      "('5/12/2000', 'United States', 'FERNANDINA BCH, FL', 'Piper', 'PA-18-150', 'Non-Fatal', 'Substantial', 30.609444, -81.46055600000001)\n",
      "('5/11/2000', 'United States', 'PICAYUNE, MS', 'Cessna', '172H', 'Non-Fatal', 'Destroyed', 30.527778, -89.706944)\n",
      "('5/10/2000', 'United States', 'Eureka, CA', 'Sikorsky', 'S61A', 'Non-Fatal', 'Substantial', 41.0, -124.0)\n",
      "('5/10/2000', 'United States', 'KAUNAKAKAI, HI', 'Rockwell', 'NA-265-65', 'Fatal(6)', 'Destroyed', 21.127223, -157.149722)\n",
      "('5/9/2000', 'United States', 'MESA, AZ', 'Cessna', '310Q', 'Non-Fatal', 'Substantial', 33.460833, -111.728334)\n",
      "('5/7/2000', 'United States', 'GRAND CANYON, AZ', 'Cessna', 'T210L', 'Non-Fatal', 'Substantial', 35.651111, -112.147777)\n",
      "('5/5/2000', 'United States', 'China Lake, CA', 'Beech', '65-90', 'Non-Fatal', 'Substantial', 35.666667, -117.66666699999999)\n",
      "('5/2/2000', 'United States', 'Orlando, FL', 'Cessna', '501', 'Non-Fatal', 'Substantial', 28.428889, -81.31611099999999)\n",
      "('4/23/2000', 'United States', 'LANCASTER, OH', 'Cessna', '150', 'Non-Fatal', 'Substantial', 39.755556, -82.656944)\n",
      "('4/20/2000', 'United States', 'Colquitt, GA', 'Air Tractor', 'AT-301', 'Non-Fatal', 'Substantial', 31.167223, -84.719167)\n",
      "('4/20/2000', 'United States', 'Stonesboro, SC', 'Hiller', 'UH-12ET', 'Non-Fatal', 'Substantial', 33.938889, -81.119445)\n",
      "('4/19/2000', 'United States', 'Rock Hill, SC', 'Piper', 'PA-31-350', 'Non-Fatal', 'Substantial', 34.985277, -81.05888900000001)\n",
      "('4/18/2000', 'United States', 'GRAND CANYON, AZ', 'Bell', '206L-3', 'Non-Fatal', 'Destroyed', 33.963611, -112.1425)\n",
      "('4/17/2000', 'United States', 'RENO, NV', 'Grumman', 'US-2C', 'Fatal(3)', 'Destroyed', 39.667223, -119.87611100000001)\n",
      "('4/16/2000', 'United States', 'Yreka, CA', 'Cessna', '207', 'Non-Fatal', 'Substantial', 42.0, -122.5)\n",
      "('4/11/2000', 'United States', 'FRESNO, CA', 'Piper', 'PA-38-112', 'Non-Fatal', 'Substantial', 36.776111, -119.719167)\n",
      "('4/11/2000', 'United States', 'Fullerton, CA', 'Beech', 'B36TC', 'Fatal(1)', 'Destroyed', 33.866667, -117.96666699999999)\n",
      "('4/5/2000', 'United States', 'MARIANNA, FL', 'LEARJET', '35A', 'Fatal(3)', 'Destroyed', 1.483333, -75.533333)\n",
      "('4/3/2000', 'United States', 'SELINSGROVE, PA', 'Beech', '23', 'Non-Fatal', 'Substantial', 40.820555999999996, -76.863889)\n",
      "('3/26/2000', 'United States', 'Panama City, FL', 'Piper', 'PA-24-260', 'Fatal(1)', 'Destroyed', 30.227778000000004, -85.719723)\n",
      "('3/24/2000', 'United States', 'RIALTO, CA', 'Robinson', 'R22 BETA', 'Fatal(1)', 'Destroyed', 34.118056, -117.38361100000002)\n",
      "('3/21/2000', 'United States', 'KILLEEN, TX', 'Saab', '340B', 'Non-Fatal', 'Substantial', 31.085833, -97.686389)\n",
      "('3/19/2000', 'United States', 'Snelling, CA', 'Bell', '212', 'Fatal(1)', 'Destroyed', 37.486389, -120.35055600000001)\n",
      "('3/13/2000', 'United States', 'SAN FRANCISCO, CA', 'Boeing', '727-232', 'Incident', 'Minor', 37.620278000000006, -122.38)\n",
      "('3/11/2000', 'United States', 'Fallbrook, CA', 'Cessna', '182Q', 'Fatal(1)', 'Substantial', 33.354167, -117.25083300000001)\n",
      "('3/10/2000', 'United States', 'ROUGH AND READY, CA', 'Boeing', '369D', 'Non-Fatal', 'Substantial', 39.366667, -121.25)\n",
      "('3/8/2000', 'United States', 'CALIPATRIA, CA', 'Arrow Aircraft Co.', 'OH-58A', 'Non-Fatal', 'Substantial', 33.13, -115.521667)\n",
      "('3/7/2000', 'United States', 'Wasco, CA', 'Bell', '47G-4A', 'Non-Fatal', 'Substantial', 35.616667, -119.35)\n",
      "('2/18/2000', 'United States', 'SANDUSKY, OH', 'Cessna', '310R', 'Non-Fatal', 'Substantial', 41.433333000000005, -82.652222)\n",
      "('2/15/2000', 'United States', 'Palm Springs, CA', 'Piper', 'PA-28-140', 'Non-Fatal', 'Minor', 33.833333, -116.516667)\n",
      "('2/15/2000', 'United States', 'Palm Springs, CA', 'Cessna', '172N', 'Non-Fatal', 'Substantial', 33.833333, -116.516667)\n",
      "('2/9/2000', 'United States', 'MONROE, GA', 'Beech', 'F90', 'Non-Fatal', 'Substantial', 33.7825, -83.692777)\n",
      "('1/22/2000', 'United States', 'San Antonio, TX', 'Mitsubishi', 'MU-2B-26A', 'Fatal(2)', 'Destroyed', 29.553611, -98.483056)\n",
      "('1/18/2000', 'United States', 'BRAWLEY, CA', 'Bell', 'OH-58C', 'Non-Fatal', 'Substantial', 32.0, -115.0)\n",
      "('12/28/1999', 'United States', 'AVALON, CA', 'Aerospatiale', 'AS-350D', 'Non-Fatal', 'Destroyed', 33.416389, -118.465278)\n",
      "('11/27/1999', 'United States', 'PHILADELPHIA, MS', 'Bell', '212', 'Fatal(2)', 'Destroyed', 32.784444, -88.92611099999999)\n",
      "('10/15/1999', 'United States', 'Ventura, CA', 'Cessna', '152', 'Fatal(2)', 'Destroyed', 34.294444, -119.335555)\n",
      "('7/13/1999', 'United States', 'MINDEN, NV', 'Schempp-Hirth', 'NIMBUS 4DM', 'Fatal(2)', 'Destroyed', 38.981667, -119.67277800000001)\n",
      "('6/6/1999', 'United States', 'LOS ANGELES, CA', 'Boeing', '747-SP', 'Non-Fatal', 'Substantial', 33.938611, -118.40888899999999)\n",
      "('6/6/1999', 'United States', 'LOS ANGELES, CA', 'Boeing', '747-4F6B', 'Non-Fatal', 'Minor', 33.938611, -118.40888899999999)\n",
      "('5/28/1999', 'United States', \"Coeur d'Alene, ID\", 'Cessna', '152', 'Fatal(2)', 'Destroyed', 47.852222, -116.475278)\n",
      "('5/6/1999', 'United States', 'PLYMOUTH, MA', 'Piper', 'PA28RT-201T', 'Fatal(1)', 'Destroyed', 41.908889, -70.728611)\n",
      "('12/17/1998', 'United States', 'Los Angeles, CA', 'Learjet', '55B', 'Non-Fatal', 'Substantial', 33.948611, -118.41361100000002)\n",
      "('11/4/1998', 'United States', 'Robbinsville, NC', 'Piper', 'PA-28-180', 'Fatal(1)', 'Destroyed', 35.389722, -83.920556)\n",
      "('9/11/1998', 'United States', 'Houston, TX', 'Boeing', '767-34AF', 'Non-Fatal', 'Substantial', 29.607221999999997, -95.158611)\n",
      "('9/14/1997', 'United States', 'St. Ignaces, MI', 'Piper', 'PA-28-235', 'Fatal(2)', 'Destroyed', 45.928334, -84.825556)\n",
      "('11/28/1995', 'United States', 'Marlinton, WV', 'Cessna', '414', 'Fatal(1)', 'Destroyed', 38.335, -80.28)\n",
      "('9/5/1992', 'United States', 'Alpine, TX', 'ROBINSON', 'R22', 'Fatal(1)', 'Destroyed', 30.383611, -103.783334)\n",
      "('10/11/1990', 'United States', 'Deadhorse, AK', 'Gulfstream Aerospace', '690C', 'Fatal(3)', 'Destroyed', 70.333333, -150.933333)\n",
      "('12/1/1989', 'United States', 'Engadine, MI', 'Piper', 'PA-22-150', 'Fatal(1)', 'Substantial', 46.154444, -85.663611)\n",
      "('9/9/1983', 'United States', 'Kalispell, MT', 'Cessna', '182N', 'Fatal(2)', 'Destroyed', 48.12, -113.8875)\n",
      "('1/8/1983', 'United States', 'Goldendale, WA', 'Bellanca', '14-19-3', 'Fatal(2)', 'Destroyed', 46.041111, -120.849722)\n",
      "('3/16/1982', 'United States', 'Mobile, AL', 'Beech', 'C24R', 'Fatal(1)', 'Substantial', 30.757778000000002, -88.35555500000001)\n",
      "('9/17/1979', 'United States', 'Boston, MA', 'MCDONNELL DOUGLAS', 'DC9', 'Non-Fatal', 'Substantial', 42.445277000000004, -70.758333)\n",
      "('8/30/1974', 'United States', 'Saltville, VA', 'Cessna', '172M', 'Fatal(3)', 'Destroyed', 36.922222999999995, -81.878056)\n"
     ]
    }
   ],
   "source": [
    "c.execute('''  \n",
    "SELECT * FROM AVIATION\n",
    "          ''')\n",
    "\n",
    "for row in c.fetchall():\n",
    "    print (row)"
   ]
  },
  {
   "cell_type": "code",
   "execution_count": null,
   "metadata": {},
   "outputs": [],
   "source": []
  }
 ]
}
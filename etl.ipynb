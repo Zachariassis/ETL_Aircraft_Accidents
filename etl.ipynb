{
 "metadata": {
  "language_info": {
   "codemirror_mode": {
    "name": "ipython",
    "version": 3
   },
   "file_extension": ".py",
   "mimetype": "text/x-python",
   "name": "python",
   "nbconvert_exporter": "python",
   "pygments_lexer": "ipython3",
   "version": "3.6.10-final"
  },
  "orig_nbformat": 2,
  "kernelspec": {
   "name": "Python 3.6.10 64-bit ('bcs': conda)",
   "display_name": "Python 3.6.10 64-bit ('bcs': conda)",
   "metadata": {
    "interpreter": {
     "hash": "8980c95ba0cda56c67b2f45ffb86ee4cd2bd4d728b2eb108f531dcdbe6ff1b95"
    }
   }
  }
 },
 "nbformat": 4,
 "nbformat_minor": 2,
 "cells": [
  {
   "cell_type": "code",
   "execution_count": 1,
   "metadata": {},
   "outputs": [],
   "source": [
    "import pandas as pd \n"
   ]
  },
  {
   "cell_type": "code",
   "execution_count": 2,
   "metadata": {},
   "outputs": [
    {
     "output_type": "execute_result",
     "data": {
      "text/plain": [
       "         Event.Id Investigation.Type Accident.Number  Event.Date  \\\n",
       "0  20200102X82407           Accident      WPR20CA055  12/31/2019   \n",
       "1  20191231X83852           Accident      CEN20FA049  12/31/2019   \n",
       "2  20200102X54844           Accident      ANC20CA011  12/31/2019   \n",
       "3  20191230X91852           Accident      CEN20CA048  12/30/2019   \n",
       "4  20191228X62945                NaN      WPR20CA053  12/28/2019   \n",
       "\n",
       "        Location        Country   Latitude   Longitude Airport.Code  \\\n",
       "0        Elk, CA  United States  39.128611 -123.715833          LLR   \n",
       "1     OLATHE, KS  United States  38.846111  -94.736111          OJC   \n",
       "2  Fairbanks, AK  United States  64.666945 -148.133334          NaN   \n",
       "3   GRANBURY, TX  United States  32.365556  -97.645000          NaN   \n",
       "4   Missoula, MT  United States        NaN         NaN          MSO   \n",
       "\n",
       "               Airport.Name  ... Purpose.of.Flight Air.Carrier  \\\n",
       "0              Little River  ...          Personal         NaN   \n",
       "1  Johnson County Executive  ...          Personal         NaN   \n",
       "2                       NaN  ...          Personal         NaN   \n",
       "3                       NaN  ...          Personal         NaN   \n",
       "4                       NaN  ...               NaN         NaN   \n",
       "\n",
       "  Total.Fatal.Injuries Total.Serious.Injuries Total.Minor.Injuries  \\\n",
       "0                  NaN                    NaN                  NaN   \n",
       "1                  2.0                    NaN                  NaN   \n",
       "2                  NaN                    NaN                  NaN   \n",
       "3                  NaN                    NaN                  NaN   \n",
       "4                  NaN                    NaN                  NaN   \n",
       "\n",
       "  Total.Uninjured Weather.Condition  Broad.Phase.of.Flight Report.Status  \\\n",
       "0             1.0               VMC                TAKEOFF       Factual   \n",
       "1             NaN               VMC                TAKEOFF   Preliminary   \n",
       "2             2.0               NaN                    NaN   Preliminary   \n",
       "3             1.0               NaN                    NaN   Preliminary   \n",
       "4             NaN               NaN                    NaN   Preliminary   \n",
       "\n",
       "  Publication.Date  \n",
       "0       13/01/2020  \n",
       "1         8/1/2020  \n",
       "2         2/1/2020  \n",
       "3       31/12/2019  \n",
       "4         3/1/2020  \n",
       "\n",
       "[5 rows x 31 columns]"
      ],
      "text/html": "<div>\n<style scoped>\n    .dataframe tbody tr th:only-of-type {\n        vertical-align: middle;\n    }\n\n    .dataframe tbody tr th {\n        vertical-align: top;\n    }\n\n    .dataframe thead th {\n        text-align: right;\n    }\n</style>\n<table border=\"1\" class=\"dataframe\">\n  <thead>\n    <tr style=\"text-align: right;\">\n      <th></th>\n      <th>Event.Id</th>\n      <th>Investigation.Type</th>\n      <th>Accident.Number</th>\n      <th>Event.Date</th>\n      <th>Location</th>\n      <th>Country</th>\n      <th>Latitude</th>\n      <th>Longitude</th>\n      <th>Airport.Code</th>\n      <th>Airport.Name</th>\n      <th>...</th>\n      <th>Purpose.of.Flight</th>\n      <th>Air.Carrier</th>\n      <th>Total.Fatal.Injuries</th>\n      <th>Total.Serious.Injuries</th>\n      <th>Total.Minor.Injuries</th>\n      <th>Total.Uninjured</th>\n      <th>Weather.Condition</th>\n      <th>Broad.Phase.of.Flight</th>\n      <th>Report.Status</th>\n      <th>Publication.Date</th>\n    </tr>\n  </thead>\n  <tbody>\n    <tr>\n      <th>0</th>\n      <td>20200102X82407</td>\n      <td>Accident</td>\n      <td>WPR20CA055</td>\n      <td>12/31/2019</td>\n      <td>Elk, CA</td>\n      <td>United States</td>\n      <td>39.128611</td>\n      <td>-123.715833</td>\n      <td>LLR</td>\n      <td>Little River</td>\n      <td>...</td>\n      <td>Personal</td>\n      <td>NaN</td>\n      <td>NaN</td>\n      <td>NaN</td>\n      <td>NaN</td>\n      <td>1.0</td>\n      <td>VMC</td>\n      <td>TAKEOFF</td>\n      <td>Factual</td>\n      <td>13/01/2020</td>\n    </tr>\n    <tr>\n      <th>1</th>\n      <td>20191231X83852</td>\n      <td>Accident</td>\n      <td>CEN20FA049</td>\n      <td>12/31/2019</td>\n      <td>OLATHE, KS</td>\n      <td>United States</td>\n      <td>38.846111</td>\n      <td>-94.736111</td>\n      <td>OJC</td>\n      <td>Johnson County Executive</td>\n      <td>...</td>\n      <td>Personal</td>\n      <td>NaN</td>\n      <td>2.0</td>\n      <td>NaN</td>\n      <td>NaN</td>\n      <td>NaN</td>\n      <td>VMC</td>\n      <td>TAKEOFF</td>\n      <td>Preliminary</td>\n      <td>8/1/2020</td>\n    </tr>\n    <tr>\n      <th>2</th>\n      <td>20200102X54844</td>\n      <td>Accident</td>\n      <td>ANC20CA011</td>\n      <td>12/31/2019</td>\n      <td>Fairbanks, AK</td>\n      <td>United States</td>\n      <td>64.666945</td>\n      <td>-148.133334</td>\n      <td>NaN</td>\n      <td>NaN</td>\n      <td>...</td>\n      <td>Personal</td>\n      <td>NaN</td>\n      <td>NaN</td>\n      <td>NaN</td>\n      <td>NaN</td>\n      <td>2.0</td>\n      <td>NaN</td>\n      <td>NaN</td>\n      <td>Preliminary</td>\n      <td>2/1/2020</td>\n    </tr>\n    <tr>\n      <th>3</th>\n      <td>20191230X91852</td>\n      <td>Accident</td>\n      <td>CEN20CA048</td>\n      <td>12/30/2019</td>\n      <td>GRANBURY, TX</td>\n      <td>United States</td>\n      <td>32.365556</td>\n      <td>-97.645000</td>\n      <td>NaN</td>\n      <td>NaN</td>\n      <td>...</td>\n      <td>Personal</td>\n      <td>NaN</td>\n      <td>NaN</td>\n      <td>NaN</td>\n      <td>NaN</td>\n      <td>1.0</td>\n      <td>NaN</td>\n      <td>NaN</td>\n      <td>Preliminary</td>\n      <td>31/12/2019</td>\n    </tr>\n    <tr>\n      <th>4</th>\n      <td>20191228X62945</td>\n      <td>NaN</td>\n      <td>WPR20CA053</td>\n      <td>12/28/2019</td>\n      <td>Missoula, MT</td>\n      <td>United States</td>\n      <td>NaN</td>\n      <td>NaN</td>\n      <td>MSO</td>\n      <td>NaN</td>\n      <td>...</td>\n      <td>NaN</td>\n      <td>NaN</td>\n      <td>NaN</td>\n      <td>NaN</td>\n      <td>NaN</td>\n      <td>NaN</td>\n      <td>NaN</td>\n      <td>NaN</td>\n      <td>Preliminary</td>\n      <td>3/1/2020</td>\n    </tr>\n  </tbody>\n</table>\n<p>5 rows × 31 columns</p>\n</div>"
     },
     "metadata": {},
     "execution_count": 2
    }
   ],
   "source": [
    "data = pd.read_csv(\"Resources/aviation.csv\",encoding='latin1')\n",
    "data.head()"
   ]
  },
  {
   "cell_type": "code",
   "execution_count": 3,
   "metadata": {},
   "outputs": [
    {
     "output_type": "execute_result",
     "data": {
      "text/plain": [
       "   Event.Date        Country       Location    Make  Model Amateur.Built  \\\n",
       "0  12/31/2019  United States        Elk, CA  Cessna    175            No   \n",
       "1  12/31/2019  United States     OLATHE, KS  Mooney   M20S            No   \n",
       "2  12/31/2019  United States  Fairbanks, AK  Cessna    170            No   \n",
       "3  12/30/2019  United States   GRANBURY, TX    Vans  RV 10           Yes   \n",
       "4  12/28/2019  United States   Missoula, MT  Cessna    170            No   \n",
       "\n",
       "  Injury.Severity Aircraft.Damage   Latitude   Longitude  \n",
       "0       Non-Fatal     Substantial  39.128611 -123.715833  \n",
       "1        Fatal(2)       Destroyed  38.846111  -94.736111  \n",
       "2       Non-Fatal     Substantial  64.666945 -148.133334  \n",
       "3       Non-Fatal     Substantial  32.365556  -97.645000  \n",
       "4     Unavailable     Substantial        NaN         NaN  "
      ],
      "text/html": "<div>\n<style scoped>\n    .dataframe tbody tr th:only-of-type {\n        vertical-align: middle;\n    }\n\n    .dataframe tbody tr th {\n        vertical-align: top;\n    }\n\n    .dataframe thead th {\n        text-align: right;\n    }\n</style>\n<table border=\"1\" class=\"dataframe\">\n  <thead>\n    <tr style=\"text-align: right;\">\n      <th></th>\n      <th>Event.Date</th>\n      <th>Country</th>\n      <th>Location</th>\n      <th>Make</th>\n      <th>Model</th>\n      <th>Amateur.Built</th>\n      <th>Injury.Severity</th>\n      <th>Aircraft.Damage</th>\n      <th>Latitude</th>\n      <th>Longitude</th>\n    </tr>\n  </thead>\n  <tbody>\n    <tr>\n      <th>0</th>\n      <td>12/31/2019</td>\n      <td>United States</td>\n      <td>Elk, CA</td>\n      <td>Cessna</td>\n      <td>175</td>\n      <td>No</td>\n      <td>Non-Fatal</td>\n      <td>Substantial</td>\n      <td>39.128611</td>\n      <td>-123.715833</td>\n    </tr>\n    <tr>\n      <th>1</th>\n      <td>12/31/2019</td>\n      <td>United States</td>\n      <td>OLATHE, KS</td>\n      <td>Mooney</td>\n      <td>M20S</td>\n      <td>No</td>\n      <td>Fatal(2)</td>\n      <td>Destroyed</td>\n      <td>38.846111</td>\n      <td>-94.736111</td>\n    </tr>\n    <tr>\n      <th>2</th>\n      <td>12/31/2019</td>\n      <td>United States</td>\n      <td>Fairbanks, AK</td>\n      <td>Cessna</td>\n      <td>170</td>\n      <td>No</td>\n      <td>Non-Fatal</td>\n      <td>Substantial</td>\n      <td>64.666945</td>\n      <td>-148.133334</td>\n    </tr>\n    <tr>\n      <th>3</th>\n      <td>12/30/2019</td>\n      <td>United States</td>\n      <td>GRANBURY, TX</td>\n      <td>Vans</td>\n      <td>RV 10</td>\n      <td>Yes</td>\n      <td>Non-Fatal</td>\n      <td>Substantial</td>\n      <td>32.365556</td>\n      <td>-97.645000</td>\n    </tr>\n    <tr>\n      <th>4</th>\n      <td>12/28/2019</td>\n      <td>United States</td>\n      <td>Missoula, MT</td>\n      <td>Cessna</td>\n      <td>170</td>\n      <td>No</td>\n      <td>Unavailable</td>\n      <td>Substantial</td>\n      <td>NaN</td>\n      <td>NaN</td>\n    </tr>\n  </tbody>\n</table>\n</div>"
     },
     "metadata": {},
     "execution_count": 3
    }
   ],
   "source": [
    "aviation_data = data[['Event.Date', 'Country', 'Location', 'Make', 'Model','Amateur.Built', 'Injury.Severity', 'Aircraft.Damage' ,'Latitude', 'Longitude' ]]\n",
    "aviation_data.head()"
   ]
  },
  {
   "cell_type": "code",
   "execution_count": 4,
   "metadata": {},
   "outputs": [
    {
     "output_type": "execute_result",
     "data": {
      "text/plain": [
       "   Event.Date        Country       Location    Make   Model Injury.Severity  \\\n",
       "0  12/31/2019  United States        Elk, CA  Cessna     175       Non-Fatal   \n",
       "1  12/31/2019  United States     OLATHE, KS  Mooney    M20S        Fatal(2)   \n",
       "2  12/31/2019  United States  Fairbanks, AK  Cessna     170       Non-Fatal   \n",
       "5  12/28/2019  United States  LAFAYETTE, LA   Piper  PA 31T        Fatal(5)   \n",
       "6  12/25/2019  United States   Headland, AL    Bell     407        Fatal(1)   \n",
       "\n",
       "  Aircraft.Damage   Latitude   Longitude  \n",
       "0     Substantial  39.128611 -123.715833  \n",
       "1       Destroyed  38.846111  -94.736111  \n",
       "2     Substantial  64.666945 -148.133334  \n",
       "5       Destroyed  30.176111  -92.007500  \n",
       "6     Substantial  31.364167  -85.312500  "
      ],
      "text/html": "<div>\n<style scoped>\n    .dataframe tbody tr th:only-of-type {\n        vertical-align: middle;\n    }\n\n    .dataframe tbody tr th {\n        vertical-align: top;\n    }\n\n    .dataframe thead th {\n        text-align: right;\n    }\n</style>\n<table border=\"1\" class=\"dataframe\">\n  <thead>\n    <tr style=\"text-align: right;\">\n      <th></th>\n      <th>Event.Date</th>\n      <th>Country</th>\n      <th>Location</th>\n      <th>Make</th>\n      <th>Model</th>\n      <th>Injury.Severity</th>\n      <th>Aircraft.Damage</th>\n      <th>Latitude</th>\n      <th>Longitude</th>\n    </tr>\n  </thead>\n  <tbody>\n    <tr>\n      <th>0</th>\n      <td>12/31/2019</td>\n      <td>United States</td>\n      <td>Elk, CA</td>\n      <td>Cessna</td>\n      <td>175</td>\n      <td>Non-Fatal</td>\n      <td>Substantial</td>\n      <td>39.128611</td>\n      <td>-123.715833</td>\n    </tr>\n    <tr>\n      <th>1</th>\n      <td>12/31/2019</td>\n      <td>United States</td>\n      <td>OLATHE, KS</td>\n      <td>Mooney</td>\n      <td>M20S</td>\n      <td>Fatal(2)</td>\n      <td>Destroyed</td>\n      <td>38.846111</td>\n      <td>-94.736111</td>\n    </tr>\n    <tr>\n      <th>2</th>\n      <td>12/31/2019</td>\n      <td>United States</td>\n      <td>Fairbanks, AK</td>\n      <td>Cessna</td>\n      <td>170</td>\n      <td>Non-Fatal</td>\n      <td>Substantial</td>\n      <td>64.666945</td>\n      <td>-148.133334</td>\n    </tr>\n    <tr>\n      <th>5</th>\n      <td>12/28/2019</td>\n      <td>United States</td>\n      <td>LAFAYETTE, LA</td>\n      <td>Piper</td>\n      <td>PA 31T</td>\n      <td>Fatal(5)</td>\n      <td>Destroyed</td>\n      <td>30.176111</td>\n      <td>-92.007500</td>\n    </tr>\n    <tr>\n      <th>6</th>\n      <td>12/25/2019</td>\n      <td>United States</td>\n      <td>Headland, AL</td>\n      <td>Bell</td>\n      <td>407</td>\n      <td>Fatal(1)</td>\n      <td>Substantial</td>\n      <td>31.364167</td>\n      <td>-85.312500</td>\n    </tr>\n  </tbody>\n</table>\n</div>"
     },
     "metadata": {},
     "execution_count": 4
    }
   ],
   "source": [
    "us_data = aviation_data[aviation_data['Country']=='United States']\n",
    "us_data = us_data.dropna()\n",
    "us_data_pro = us_data[us_data['Amateur.Built'] == 'No']\n",
    "us_data_clean = us_data_pro.drop('Amateur.Built', 1)\n",
    "us_data_clean.head()"
   ]
  },
  {
   "cell_type": "code",
   "execution_count": 5,
   "metadata": {},
   "outputs": [
    {
     "output_type": "stream",
     "name": "stdout",
     "text": [
      "   Event.Date        Country       Location   Make   Model Amateur.Built  \\\n5  12/28/2019  United States  LAFAYETTE, LA  Piper  PA 31T            No   \n\n  Injury.Severity Aircraft.Damage   Latitude  Longitude  \n5        Fatal(5)       Destroyed  30.176111   -92.0075  \n"
     ]
    }
   ],
   "source": [
    "print(us_data[us_data['Location'] == 'LAFAYETTE, LA'])"
   ]
  },
  {
   "cell_type": "code",
   "execution_count": 6,
   "metadata": {},
   "outputs": [],
   "source": [
    "aviation_renamed = us_data_clean.rename(columns={ 'Event.Date': 'Date', 'Location':'City_State','Injury.Severity': 'Injury_Severity', 'Aircraft.Damage':'Aircraft_Damage'  })"
   ]
  },
  {
   "cell_type": "code",
   "execution_count": 7,
   "metadata": {},
   "outputs": [],
   "source": [
    "aviation_renamed['Make']=aviation_renamed['Make'].str.lower()\n",
    "aviation_renamed=aviation_renamed.reset_index(drop=True)\n",
    "\n",
    "Make=aviation_renamed['Make'].value_counts()\n",
    "Make=pd.DataFrame(Make)\n",
    "Make=Make.reset_index(drop=False).rename(columns={'index':'Make', 'Make': 'count'})\n",
    "Make.to_csv('Resources/Make.csv')"
   ]
  },
  {
   "cell_type": "code",
   "execution_count": 8,
   "metadata": {},
   "outputs": [
    {
     "output_type": "execute_result",
     "data": {
      "text/plain": [
       "15665"
      ]
     },
     "metadata": {},
     "execution_count": 8
    }
   ],
   "source": [
    "a=0\n",
    "for i in range(len(aviation_renamed['Make'])):\n",
    "    if 'cessna' in aviation_renamed['Make'][i]:\n",
    "        aviation_renamed['Make'][i]='cessna'\n",
    "        a=a+1\n",
    "    if 'piper' in aviation_renamed['Make'][i]:\n",
    "        aviation_renamed['Make'][i]='piper'\n",
    "        a=a+1\n",
    "    if 'robinson' in aviation_renamed['Make'][i]:\n",
    "        aviation_renamed['Make'][i]='robinson'\n",
    "        a=a+1\n",
    "    if 'cirrus' in aviation_renamed['Make'][i]:\n",
    "        aviation_renamed['Make'][i]='cirrus'\n",
    "        a=a+1\n",
    "    if 'airbus' in aviation_renamed['Make'][i]:\n",
    "        aviation_renamed['Make'][i]='airbus'\n",
    "        a=a+1\n",
    "    if 'raytheon' in aviation_renamed['Make'][i]:\n",
    "        aviation_renamed['Make'][i]='raytheon'\n",
    "        a=a+1\n",
    "    if 'grumman' in aviation_renamed['Make'][i]:\n",
    "        aviation_renamed['Make'][i]='grumman'\n",
    "        a=a+1\n",
    "    if 'mooney' in aviation_renamed['Make'][i]:\n",
    "        aviation_renamed['Make'][i]='mooney'\n",
    "        a=a+1\n",
    "    if 'diamond' in aviation_renamed['Make'][i]:\n",
    "        aviation_renamed['Make'][i]='diamond'\n",
    "        a=a+1\n",
    "    if 'beech' in aviation_renamed['Make'][i]:\n",
    "        aviation_renamed['Make'][i]='beechcraft'\n",
    "        a=a+1\n",
    "Make=aviation_renamed['Make'].value_counts()\n",
    "Make=pd.DataFrame(Make)\n",
    "Make=Make.reset_index(drop=False).rename(columns={'index':'Make', 'Make': 'count'})\n",
    "Make.to_csv('Resources/Make.csv')\n",
    "a"
   ]
  },
  {
   "cell_type": "code",
   "execution_count": 10,
   "metadata": {},
   "outputs": [
    {
     "output_type": "execute_result",
     "data": {
      "text/plain": [
       "         Date        Country     City_State    Make   Model Injury_Severity  \\\n",
       "0  12/31/2019  United States        Elk, CA  cessna     175       Non-Fatal   \n",
       "1  12/31/2019  United States     OLATHE, KS  mooney    M20S        Fatal(2)   \n",
       "2  12/31/2019  United States  Fairbanks, AK  cessna     170       Non-Fatal   \n",
       "3  12/28/2019  United States  LAFAYETTE, LA   piper  PA 31T        Fatal(5)   \n",
       "4  12/25/2019  United States   Headland, AL    bell     407        Fatal(1)   \n",
       "\n",
       "  Aircraft_Damage   Latitude   Longitude Make and Model  \n",
       "0     Substantial  39.128611 -123.715833     cessna 175  \n",
       "1       Destroyed  38.846111  -94.736111    mooney m20s  \n",
       "2     Substantial  64.666945 -148.133334     cessna 170  \n",
       "3       Destroyed  30.176111  -92.007500   piper pa 31t  \n",
       "4     Substantial  31.364167  -85.312500       bell 407  "
      ],
      "text/html": "<div>\n<style scoped>\n    .dataframe tbody tr th:only-of-type {\n        vertical-align: middle;\n    }\n\n    .dataframe tbody tr th {\n        vertical-align: top;\n    }\n\n    .dataframe thead th {\n        text-align: right;\n    }\n</style>\n<table border=\"1\" class=\"dataframe\">\n  <thead>\n    <tr style=\"text-align: right;\">\n      <th></th>\n      <th>Date</th>\n      <th>Country</th>\n      <th>City_State</th>\n      <th>Make</th>\n      <th>Model</th>\n      <th>Injury_Severity</th>\n      <th>Aircraft_Damage</th>\n      <th>Latitude</th>\n      <th>Longitude</th>\n      <th>Make and Model</th>\n    </tr>\n  </thead>\n  <tbody>\n    <tr>\n      <th>0</th>\n      <td>12/31/2019</td>\n      <td>United States</td>\n      <td>Elk, CA</td>\n      <td>cessna</td>\n      <td>175</td>\n      <td>Non-Fatal</td>\n      <td>Substantial</td>\n      <td>39.128611</td>\n      <td>-123.715833</td>\n      <td>cessna 175</td>\n    </tr>\n    <tr>\n      <th>1</th>\n      <td>12/31/2019</td>\n      <td>United States</td>\n      <td>OLATHE, KS</td>\n      <td>mooney</td>\n      <td>M20S</td>\n      <td>Fatal(2)</td>\n      <td>Destroyed</td>\n      <td>38.846111</td>\n      <td>-94.736111</td>\n      <td>mooney m20s</td>\n    </tr>\n    <tr>\n      <th>2</th>\n      <td>12/31/2019</td>\n      <td>United States</td>\n      <td>Fairbanks, AK</td>\n      <td>cessna</td>\n      <td>170</td>\n      <td>Non-Fatal</td>\n      <td>Substantial</td>\n      <td>64.666945</td>\n      <td>-148.133334</td>\n      <td>cessna 170</td>\n    </tr>\n    <tr>\n      <th>3</th>\n      <td>12/28/2019</td>\n      <td>United States</td>\n      <td>LAFAYETTE, LA</td>\n      <td>piper</td>\n      <td>PA 31T</td>\n      <td>Fatal(5)</td>\n      <td>Destroyed</td>\n      <td>30.176111</td>\n      <td>-92.007500</td>\n      <td>piper pa 31t</td>\n    </tr>\n    <tr>\n      <th>4</th>\n      <td>12/25/2019</td>\n      <td>United States</td>\n      <td>Headland, AL</td>\n      <td>bell</td>\n      <td>407</td>\n      <td>Fatal(1)</td>\n      <td>Substantial</td>\n      <td>31.364167</td>\n      <td>-85.312500</td>\n      <td>bell 407</td>\n    </tr>\n  </tbody>\n</table>\n</div>"
     },
     "metadata": {},
     "execution_count": 10
    }
   ],
   "source": [
    "aviation_renamed['Make and Model'] = aviation_renamed['Make'] + ' ' + aviation_renamed['Model']\n",
    "aviation_renamed['Make and Model'] = aviation_renamed['Make and Model'].str.lower()\n",
    "aviation_renamed.head()"
   ]
  },
  {
   "cell_type": "code",
   "execution_count": 11,
   "metadata": {},
   "outputs": [],
   "source": [
    "aviation_renamed.to_csv('Resources/aviation_renamed.csv')"
   ]
  },
  {
   "cell_type": "code",
   "execution_count": null,
   "metadata": {},
   "outputs": [],
   "source": []
  }
 ]
}
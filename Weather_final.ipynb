{
 "metadata": {
  "language_info": {
   "codemirror_mode": {
    "name": "ipython",
    "version": 3
   },
   "file_extension": ".py",
   "mimetype": "text/x-python",
   "name": "python",
   "nbconvert_exporter": "python",
   "pygments_lexer": "ipython3",
   "version": "3.6.10-final"
  },
  "orig_nbformat": 2,
  "kernelspec": {
   "name": "Python 3.6.10 64-bit ('bcs': conda)",
   "display_name": "Python 3.6.10 64-bit ('bcs': conda)",
   "metadata": {
    "interpreter": {
     "hash": "1971913ac00dca1e77910a85423f09eb065d4a539704e5d6846dea4f768dc547"
    }
   }
  }
 },
 "nbformat": 4,
 "nbformat_minor": 2,
 "cells": [
  {
   "cell_type": "code",
   "execution_count": 1,
   "metadata": {},
   "outputs": [],
   "source": [
    "import pandas as pd"
   ]
  },
  {
   "cell_type": "code",
   "execution_count": 2,
   "metadata": {},
   "outputs": [
    {
     "output_type": "execute_result",
     "data": {
      "text/plain": [
       "   Unnamed: 0                       Date   Latitude   Longitude  Incident ID  \\\n",
       "0           0  2019-12-31T00:00:00-08:00  39.128611 -123.715833          0.0   \n",
       "1           0  2019-12-31T00:00:00-06:00  38.846111  -94.736111          1.0   \n",
       "2           0  2019-12-31T00:00:00-09:00  64.666945 -148.133334          2.0   \n",
       "3           0  2019-12-28T00:00:00-06:00  30.176111  -92.007500          3.0   \n",
       "4           0  2019-12-25T00:00:00-06:00  31.364167  -85.312500          4.0   \n",
       "\n",
       "   Temperature  Max Temperature  Wind Speed  Visibility  Precipitation  \\\n",
       "0         48.8             58.2         5.2         7.6           0.00   \n",
       "1         33.7             42.2        13.9         9.9           0.00   \n",
       "2         -3.0             -0.3         4.5         9.3           0.00   \n",
       "3         68.9             76.0        12.8         5.5           0.09   \n",
       "4         60.2             72.0        10.3         9.9           0.00   \n",
       "\n",
       "   Humidity        Conditions  Cloudcover  \n",
       "0     71.77             Clear        14.1  \n",
       "1     59.91             Clear         0.0  \n",
       "2     76.68  Partially cloudy        74.6  \n",
       "3     92.13    Rain, Overcast        89.9  \n",
       "4     66.30             Clear         0.0  "
      ],
      "text/html": "<div>\n<style scoped>\n    .dataframe tbody tr th:only-of-type {\n        vertical-align: middle;\n    }\n\n    .dataframe tbody tr th {\n        vertical-align: top;\n    }\n\n    .dataframe thead th {\n        text-align: right;\n    }\n</style>\n<table border=\"1\" class=\"dataframe\">\n  <thead>\n    <tr style=\"text-align: right;\">\n      <th></th>\n      <th>Unnamed: 0</th>\n      <th>Date</th>\n      <th>Latitude</th>\n      <th>Longitude</th>\n      <th>Incident ID</th>\n      <th>Temperature</th>\n      <th>Max Temperature</th>\n      <th>Wind Speed</th>\n      <th>Visibility</th>\n      <th>Precipitation</th>\n      <th>Humidity</th>\n      <th>Conditions</th>\n      <th>Cloudcover</th>\n    </tr>\n  </thead>\n  <tbody>\n    <tr>\n      <th>0</th>\n      <td>0</td>\n      <td>2019-12-31T00:00:00-08:00</td>\n      <td>39.128611</td>\n      <td>-123.715833</td>\n      <td>0.0</td>\n      <td>48.8</td>\n      <td>58.2</td>\n      <td>5.2</td>\n      <td>7.6</td>\n      <td>0.00</td>\n      <td>71.77</td>\n      <td>Clear</td>\n      <td>14.1</td>\n    </tr>\n    <tr>\n      <th>1</th>\n      <td>0</td>\n      <td>2019-12-31T00:00:00-06:00</td>\n      <td>38.846111</td>\n      <td>-94.736111</td>\n      <td>1.0</td>\n      <td>33.7</td>\n      <td>42.2</td>\n      <td>13.9</td>\n      <td>9.9</td>\n      <td>0.00</td>\n      <td>59.91</td>\n      <td>Clear</td>\n      <td>0.0</td>\n    </tr>\n    <tr>\n      <th>2</th>\n      <td>0</td>\n      <td>2019-12-31T00:00:00-09:00</td>\n      <td>64.666945</td>\n      <td>-148.133334</td>\n      <td>2.0</td>\n      <td>-3.0</td>\n      <td>-0.3</td>\n      <td>4.5</td>\n      <td>9.3</td>\n      <td>0.00</td>\n      <td>76.68</td>\n      <td>Partially cloudy</td>\n      <td>74.6</td>\n    </tr>\n    <tr>\n      <th>3</th>\n      <td>0</td>\n      <td>2019-12-28T00:00:00-06:00</td>\n      <td>30.176111</td>\n      <td>-92.007500</td>\n      <td>3.0</td>\n      <td>68.9</td>\n      <td>76.0</td>\n      <td>12.8</td>\n      <td>5.5</td>\n      <td>0.09</td>\n      <td>92.13</td>\n      <td>Rain, Overcast</td>\n      <td>89.9</td>\n    </tr>\n    <tr>\n      <th>4</th>\n      <td>0</td>\n      <td>2019-12-25T00:00:00-06:00</td>\n      <td>31.364167</td>\n      <td>-85.312500</td>\n      <td>4.0</td>\n      <td>60.2</td>\n      <td>72.0</td>\n      <td>10.3</td>\n      <td>9.9</td>\n      <td>0.00</td>\n      <td>66.30</td>\n      <td>Clear</td>\n      <td>0.0</td>\n    </tr>\n  </tbody>\n</table>\n</div>"
     },
     "metadata": {},
     "execution_count": 2
    }
   ],
   "source": [
    "data=pd.read_csv('Resources/weather_raw.csv')\n",
    "data.head()"
   ]
  },
  {
   "cell_type": "code",
   "execution_count": 3,
   "metadata": {},
   "outputs": [
    {
     "output_type": "execute_result",
     "data": {
      "text/plain": [
       "                        Date   Latitude   Longitude  Incident ID  Temperature  \\\n",
       "0  2019-12-31T00:00:00-08:00  39.128611 -123.715833          0.0         48.8   \n",
       "1  2019-12-31T00:00:00-06:00  38.846111  -94.736111          1.0         33.7   \n",
       "2  2019-12-31T00:00:00-09:00  64.666945 -148.133334          2.0         -3.0   \n",
       "3  2019-12-28T00:00:00-06:00  30.176111  -92.007500          3.0         68.9   \n",
       "4  2019-12-25T00:00:00-06:00  31.364167  -85.312500          4.0         60.2   \n",
       "\n",
       "   Max Temperature  Wind Speed  Visibility  Precipitation  Humidity  \\\n",
       "0             58.2         5.2         7.6           0.00     71.77   \n",
       "1             42.2        13.9         9.9           0.00     59.91   \n",
       "2             -0.3         4.5         9.3           0.00     76.68   \n",
       "3             76.0        12.8         5.5           0.09     92.13   \n",
       "4             72.0        10.3         9.9           0.00     66.30   \n",
       "\n",
       "         Conditions  Cloudcover  \n",
       "0             Clear        14.1  \n",
       "1             Clear         0.0  \n",
       "2  Partially cloudy        74.6  \n",
       "3    Rain, Overcast        89.9  \n",
       "4             Clear         0.0  "
      ],
      "text/html": "<div>\n<style scoped>\n    .dataframe tbody tr th:only-of-type {\n        vertical-align: middle;\n    }\n\n    .dataframe tbody tr th {\n        vertical-align: top;\n    }\n\n    .dataframe thead th {\n        text-align: right;\n    }\n</style>\n<table border=\"1\" class=\"dataframe\">\n  <thead>\n    <tr style=\"text-align: right;\">\n      <th></th>\n      <th>Date</th>\n      <th>Latitude</th>\n      <th>Longitude</th>\n      <th>Incident ID</th>\n      <th>Temperature</th>\n      <th>Max Temperature</th>\n      <th>Wind Speed</th>\n      <th>Visibility</th>\n      <th>Precipitation</th>\n      <th>Humidity</th>\n      <th>Conditions</th>\n      <th>Cloudcover</th>\n    </tr>\n  </thead>\n  <tbody>\n    <tr>\n      <th>0</th>\n      <td>2019-12-31T00:00:00-08:00</td>\n      <td>39.128611</td>\n      <td>-123.715833</td>\n      <td>0.0</td>\n      <td>48.8</td>\n      <td>58.2</td>\n      <td>5.2</td>\n      <td>7.6</td>\n      <td>0.00</td>\n      <td>71.77</td>\n      <td>Clear</td>\n      <td>14.1</td>\n    </tr>\n    <tr>\n      <th>1</th>\n      <td>2019-12-31T00:00:00-06:00</td>\n      <td>38.846111</td>\n      <td>-94.736111</td>\n      <td>1.0</td>\n      <td>33.7</td>\n      <td>42.2</td>\n      <td>13.9</td>\n      <td>9.9</td>\n      <td>0.00</td>\n      <td>59.91</td>\n      <td>Clear</td>\n      <td>0.0</td>\n    </tr>\n    <tr>\n      <th>2</th>\n      <td>2019-12-31T00:00:00-09:00</td>\n      <td>64.666945</td>\n      <td>-148.133334</td>\n      <td>2.0</td>\n      <td>-3.0</td>\n      <td>-0.3</td>\n      <td>4.5</td>\n      <td>9.3</td>\n      <td>0.00</td>\n      <td>76.68</td>\n      <td>Partially cloudy</td>\n      <td>74.6</td>\n    </tr>\n    <tr>\n      <th>3</th>\n      <td>2019-12-28T00:00:00-06:00</td>\n      <td>30.176111</td>\n      <td>-92.007500</td>\n      <td>3.0</td>\n      <td>68.9</td>\n      <td>76.0</td>\n      <td>12.8</td>\n      <td>5.5</td>\n      <td>0.09</td>\n      <td>92.13</td>\n      <td>Rain, Overcast</td>\n      <td>89.9</td>\n    </tr>\n    <tr>\n      <th>4</th>\n      <td>2019-12-25T00:00:00-06:00</td>\n      <td>31.364167</td>\n      <td>-85.312500</td>\n      <td>4.0</td>\n      <td>60.2</td>\n      <td>72.0</td>\n      <td>10.3</td>\n      <td>9.9</td>\n      <td>0.00</td>\n      <td>66.30</td>\n      <td>Clear</td>\n      <td>0.0</td>\n    </tr>\n  </tbody>\n</table>\n</div>"
     },
     "metadata": {},
     "execution_count": 3
    }
   ],
   "source": [
    "data=data.drop('Unnamed: 0', axis=1)\n",
    "data.head()"
   ]
  },
  {
   "cell_type": "code",
   "execution_count": 10,
   "metadata": {},
   "outputs": [],
   "source": [
    "data=data.astype({'Incident ID':int})\n"
   ]
  },
  {
   "cell_type": "code",
   "execution_count": 11,
   "metadata": {},
   "outputs": [],
   "source": [
    "data.to_csv('Resources/Weather_Final.csv')"
   ]
  },
  {
   "cell_type": "code",
   "execution_count": null,
   "metadata": {},
   "outputs": [],
   "source": []
  }
 ]
}
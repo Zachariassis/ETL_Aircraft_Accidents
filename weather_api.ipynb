{
 "metadata": {
  "language_info": {
   "codemirror_mode": {
    "name": "ipython",
    "version": 3
   },
   "file_extension": ".py",
   "mimetype": "text/x-python",
   "name": "python",
   "nbconvert_exporter": "python",
   "pygments_lexer": "ipython3",
   "version": "3.6.10-final"
  },
  "orig_nbformat": 2,
  "kernelspec": {
   "name": "Python 3.6.10 64-bit",
   "display_name": "Python 3.6.10 64-bit",
   "metadata": {
    "interpreter": {
     "hash": "1971913ac00dca1e77910a85423f09eb065d4a539704e5d6846dea4f768dc547"
    }
   }
  }
 },
 "nbformat": 4,
 "nbformat_minor": 2,
 "cells": [
  {
   "cell_type": "code",
   "execution_count": 1,
   "metadata": {},
   "outputs": [],
   "source": [
    "import pandas as pd\n",
    "import requests\n",
    "import json\n",
    "import time\n",
    "from datetime import datetime\n",
    "\n",
    "from api_key import weather_key2"
   ]
  },
  {
   "cell_type": "code",
   "execution_count": 2,
   "metadata": {},
   "outputs": [
    {
     "output_type": "execute_result",
     "data": {
      "text/plain": [
       "'YYPGFXGG79SSPJLE0C9PD1CQ2'"
      ]
     },
     "metadata": {},
     "execution_count": 2
    }
   ],
   "source": [
    "#Insert dataframe of csv data here\n",
    "aviation_data = pd.read_csv('Resources/aviation_renamed.csv', index_col=False)\n",
    "weather_key2"
   ]
  },
  {
   "cell_type": "code",
   "execution_count": null,
   "metadata": {},
   "outputs": [],
   "source": [
    "aviation_data.head()"
   ]
  },
  {
   "cell_type": "code",
   "execution_count": 4,
   "metadata": {},
   "outputs": [],
   "source": [
    "#Fake database\n",
    "\n",
    "data=pd.DataFrame({'City Name': ['a', 'b', '', '',''], \n",
    "                        'Lat': ['39.128611', '38.846111', '64.666945', '32.365556', '30.176111'], \n",
    "                        'Long': ['-123.715833', '-94.736111', '-148.133334', '-97.645', '-92.0075'],\n",
    "                        'Date':['2019-12-31', '2019-12-31', '2019-12-31', '2019-12-30', '2019-12-28'],\n",
    "                        'Max Temp': ['', '','','',''], \n",
    "                        'Cloudiness': ['', '','','',''],\n",
    "                        'Humidity': ['', '','','',''], \n",
    "                        'Wind Speed':['', '','','','']\n",
    "                        })"
   ]
  },
  {
   "cell_type": "code",
   "execution_count": 65,
   "metadata": {},
   "outputs": [
    {
     "output_type": "execute_result",
     "data": {
      "text/plain": [
       "Empty DataFrame\n",
       "Columns: [Date, Latitude, Longitude, Incident ID, Temperature, Max Temperature, Wind Speed, Visibility, Precipitation, Humidity, Conditions, Cloudcover]\n",
       "Index: []"
      ],
      "text/html": "<div>\n<style scoped>\n    .dataframe tbody tr th:only-of-type {\n        vertical-align: middle;\n    }\n\n    .dataframe tbody tr th {\n        vertical-align: top;\n    }\n\n    .dataframe thead th {\n        text-align: right;\n    }\n</style>\n<table border=\"1\" class=\"dataframe\">\n  <thead>\n    <tr style=\"text-align: right;\">\n      <th></th>\n      <th>Date</th>\n      <th>Latitude</th>\n      <th>Longitude</th>\n      <th>Incident ID</th>\n      <th>Temperature</th>\n      <th>Max Temperature</th>\n      <th>Wind Speed</th>\n      <th>Visibility</th>\n      <th>Precipitation</th>\n      <th>Humidity</th>\n      <th>Conditions</th>\n      <th>Cloudcover</th>\n    </tr>\n  </thead>\n  <tbody>\n  </tbody>\n</table>\n</div>"
     },
     "metadata": {},
     "execution_count": 65
    }
   ],
   "source": [
    "weather_data_df=pd.DataFrame({'Date':[],\n",
    "                              'Latitude':[],\n",
    "                              'Longitude':[],\n",
    "                              'Incident ID':[],\n",
    "                              'Temperature':[],\n",
    "                              'Max Temperature':[],\n",
    "                              'Wind Speed': [],\n",
    "                              'Visibility':[],\n",
    "                              'Precipitation':[],\n",
    "                              'Humidity':[],\n",
    "                              'Conditions':[],\n",
    "                              'Cloudcover':[]})\n",
    "weather_data_df"
   ]
  },
  {
   "cell_type": "code",
   "execution_count": 66,
   "metadata": {},
   "outputs": [
    {
     "output_type": "execute_result",
     "data": {
      "text/plain": [
       "                        Date   Latitude    Longitude  Incident ID  \\\n",
       "0  2019-12-31T00:00:00-08:00  39.128611  -123.715833          0.0   \n",
       "0  2019-12-31T00:00:00-06:00  38.846111   -94.736111          1.0   \n",
       "0  2019-12-31T00:00:00-09:00  64.666945  -148.133334          2.0   \n",
       "0  2019-12-30T00:00:00-06:00  32.365556      -97.645          3.0   \n",
       "0  2019-12-28T00:00:00-06:00  30.176111     -92.0075          4.0   \n",
       "\n",
       "   Temperature  Max Temperature  Wind Speed  Visibility  Precipitation  \\\n",
       "0         48.8             58.2         5.2         7.6           0.00   \n",
       "0         33.7             42.2        13.9         9.9           0.00   \n",
       "0         -3.0             -0.3         4.5         9.3           0.00   \n",
       "0         41.8             54.8        13.9         9.9           0.00   \n",
       "0         68.9             76.0        12.8         5.5           0.09   \n",
       "\n",
       "   Humidity        Conditions  Cloudcover  \n",
       "0     71.77             Clear        14.1  \n",
       "0     59.91             Clear         0.0  \n",
       "0     76.68  Partially cloudy        74.6  \n",
       "0     56.05             Clear         0.0  \n",
       "0     92.13    Rain, Overcast        89.9  "
      ],
      "text/html": "<div>\n<style scoped>\n    .dataframe tbody tr th:only-of-type {\n        vertical-align: middle;\n    }\n\n    .dataframe tbody tr th {\n        vertical-align: top;\n    }\n\n    .dataframe thead th {\n        text-align: right;\n    }\n</style>\n<table border=\"1\" class=\"dataframe\">\n  <thead>\n    <tr style=\"text-align: right;\">\n      <th></th>\n      <th>Date</th>\n      <th>Latitude</th>\n      <th>Longitude</th>\n      <th>Incident ID</th>\n      <th>Temperature</th>\n      <th>Max Temperature</th>\n      <th>Wind Speed</th>\n      <th>Visibility</th>\n      <th>Precipitation</th>\n      <th>Humidity</th>\n      <th>Conditions</th>\n      <th>Cloudcover</th>\n    </tr>\n  </thead>\n  <tbody>\n    <tr>\n      <th>0</th>\n      <td>2019-12-31T00:00:00-08:00</td>\n      <td>39.128611</td>\n      <td>-123.715833</td>\n      <td>0.0</td>\n      <td>48.8</td>\n      <td>58.2</td>\n      <td>5.2</td>\n      <td>7.6</td>\n      <td>0.00</td>\n      <td>71.77</td>\n      <td>Clear</td>\n      <td>14.1</td>\n    </tr>\n    <tr>\n      <th>0</th>\n      <td>2019-12-31T00:00:00-06:00</td>\n      <td>38.846111</td>\n      <td>-94.736111</td>\n      <td>1.0</td>\n      <td>33.7</td>\n      <td>42.2</td>\n      <td>13.9</td>\n      <td>9.9</td>\n      <td>0.00</td>\n      <td>59.91</td>\n      <td>Clear</td>\n      <td>0.0</td>\n    </tr>\n    <tr>\n      <th>0</th>\n      <td>2019-12-31T00:00:00-09:00</td>\n      <td>64.666945</td>\n      <td>-148.133334</td>\n      <td>2.0</td>\n      <td>-3.0</td>\n      <td>-0.3</td>\n      <td>4.5</td>\n      <td>9.3</td>\n      <td>0.00</td>\n      <td>76.68</td>\n      <td>Partially cloudy</td>\n      <td>74.6</td>\n    </tr>\n    <tr>\n      <th>0</th>\n      <td>2019-12-30T00:00:00-06:00</td>\n      <td>32.365556</td>\n      <td>-97.645</td>\n      <td>3.0</td>\n      <td>41.8</td>\n      <td>54.8</td>\n      <td>13.9</td>\n      <td>9.9</td>\n      <td>0.00</td>\n      <td>56.05</td>\n      <td>Clear</td>\n      <td>0.0</td>\n    </tr>\n    <tr>\n      <th>0</th>\n      <td>2019-12-28T00:00:00-06:00</td>\n      <td>30.176111</td>\n      <td>-92.0075</td>\n      <td>4.0</td>\n      <td>68.9</td>\n      <td>76.0</td>\n      <td>12.8</td>\n      <td>5.5</td>\n      <td>0.09</td>\n      <td>92.13</td>\n      <td>Rain, Overcast</td>\n      <td>89.9</td>\n    </tr>\n  </tbody>\n</table>\n</div>"
     },
     "metadata": {},
     "execution_count": 66
    }
   ],
   "source": [
    "#https://weather.visualcrossing.com/VisualCrossingWebServices/rest/services/weatherdata/forecast?locations=Herndon,VA,20170&aggregateHours=24&unitGroup=us&shortColumnNames=false&contentType=json&key=YOURAPIKEY\n",
    "\n",
    "base_url='https://weather.visualcrossing.com/VisualCrossingWebServices/rest/services/weatherdata/history?locations='\n",
    "\n",
    "for i in range(len(data)):\n",
    "    latlong=f'{data.Lat[i]},{data.Long[i]}'\n",
    "    loc='&aggregateHours=24&unitGroup=us&shortColumnNames=false&contentType=json'\n",
    "    dt=f'&startDateTime={data.Date[i]}T00%3A00%3A00'\n",
    "    key=f'&key={weather_key2}'\n",
    "    url=base_url+latlong+loc+dt+key\n",
    "    try:\n",
    "        weather_response = requests.get(url)\n",
    "        weather_json = weather_response.json()\n",
    "        weather_json['locations']\n",
    "        weather_data_single=pd.DataFrame({'Date':[weather_json['locations'][latlong]['values'][0]['datetimeStr']],\n",
    "                                          'Latitude':[data.Lat[i]],\n",
    "                                          'Longitude':[data.Long[i]],\n",
    "                                          'Incident ID':[i],\n",
    "                                          'Temperature':[weather_json['locations'][latlong]['values'][0]['temp']],\n",
    "                                          'Max Temperature':[weather_json['locations'][latlong]['values'][0]['maxt']],\n",
    "                                          'Wind Speed':[weather_json['locations'][latlong]['values'][0]['wspd']],\n",
    "                                          'Visibility':[weather_json['locations'][latlong]['values'][0]['visibility']],\n",
    "                                          'Precipitation':[weather_json['locations'][latlong]['values'][0]['precip']],\n",
    "                                          'Humidity':[weather_json['locations'][latlong]['values'][0]['humidity']],\n",
    "                                          'Conditions':[weather_json['locations'][latlong]['values'][0]['conditions']],\n",
    "                                          'Cloudcover':[weather_json['locations'][latlong]['values'][0]['cloudcover']]\n",
    "        })\n",
    "    except:\n",
    "        print(\"No value found\") #Add and print id of not found\n",
    "    weather_data_df=weather_data_df.append(weather_data_single)\n",
    "\n",
    "weather_data_df"
   ]
  },
  {
   "cell_type": "code",
   "execution_count": 61,
   "metadata": {},
   "outputs": [
    {
     "output_type": "execute_result",
     "data": {
      "text/plain": [
       "7.6"
      ]
     },
     "metadata": {},
     "execution_count": 61
    }
   ],
   "source": [
    "weather_json['locations'][latlong]['values'][0]['visibility']"
   ]
  },
  {
   "cell_type": "code",
   "execution_count": null,
   "metadata": {},
   "outputs": [],
   "source": []
  },
  {
   "cell_type": "code",
   "execution_count": null,
   "metadata": {},
   "outputs": [],
   "source": []
  }
 ]
}
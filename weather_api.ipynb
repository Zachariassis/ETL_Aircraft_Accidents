{
 "cells": [
  {
   "cell_type": "code",
   "execution_count": 5,
   "metadata": {},
   "outputs": [],
   "source": [
    "import pandas as pd\n",
    "import requests\n",
    "import json\n",
    "import time\n",
    "from datetime import datetime\n",
    "\n",
    "from api_key import weather_key2"
   ]
  },
  {
   "cell_type": "code",
   "execution_count": 6,
   "metadata": {},
   "outputs": [
    {
     "output_type": "execute_result",
     "data": {
      "text/plain": [
       "'YYPGFXGG79SSPJLE0C9PD1CQ2'"
      ]
     },
     "metadata": {},
     "execution_count": 6
    }
   ],
   "source": [
    "#Insert dataframe of csv data here\n",
    "data = pd.read_csv('Resources/aviation_renamed.csv', index_col=False)\n",
    "weather_key2"
   ]
  },
  {
   "cell_type": "code",
   "execution_count": 7,
   "metadata": {},
   "outputs": [
    {
     "output_type": "execute_result",
     "data": {
      "text/plain": [
       "   Unnamed: 0        Date        Country     City_State    Make   Model  \\\n",
       "0           0  12/31/2019  United States        Elk, CA  Cessna     175   \n",
       "1           1  12/31/2019  United States     OLATHE, KS  Mooney    M20S   \n",
       "2           2  12/31/2019  United States  Fairbanks, AK  Cessna     170   \n",
       "3           5  12/28/2019  United States  LAFAYETTE, LA   Piper  PA 31T   \n",
       "4           6  12/25/2019  United States   Headland, AL    Bell     407   \n",
       "\n",
       "  Injury_Severity Aircraft_Damage   Latitude   Longitude Make and Model  \n",
       "0       Non-Fatal     Substantial  39.128611 -123.715833     cessna 175  \n",
       "1        Fatal(2)       Destroyed  38.846111  -94.736111    mooney m20s  \n",
       "2       Non-Fatal     Substantial  64.666945 -148.133334     cessna 170  \n",
       "3        Fatal(5)       Destroyed  30.176111  -92.007500   piper pa 31t  \n",
       "4        Fatal(1)     Substantial  31.364167  -85.312500       bell 407  "
      ],
      "text/html": "<div>\n<style scoped>\n    .dataframe tbody tr th:only-of-type {\n        vertical-align: middle;\n    }\n\n    .dataframe tbody tr th {\n        vertical-align: top;\n    }\n\n    .dataframe thead th {\n        text-align: right;\n    }\n</style>\n<table border=\"1\" class=\"dataframe\">\n  <thead>\n    <tr style=\"text-align: right;\">\n      <th></th>\n      <th>Unnamed: 0</th>\n      <th>Date</th>\n      <th>Country</th>\n      <th>City_State</th>\n      <th>Make</th>\n      <th>Model</th>\n      <th>Injury_Severity</th>\n      <th>Aircraft_Damage</th>\n      <th>Latitude</th>\n      <th>Longitude</th>\n      <th>Make and Model</th>\n    </tr>\n  </thead>\n  <tbody>\n    <tr>\n      <th>0</th>\n      <td>0</td>\n      <td>12/31/2019</td>\n      <td>United States</td>\n      <td>Elk, CA</td>\n      <td>Cessna</td>\n      <td>175</td>\n      <td>Non-Fatal</td>\n      <td>Substantial</td>\n      <td>39.128611</td>\n      <td>-123.715833</td>\n      <td>cessna 175</td>\n    </tr>\n    <tr>\n      <th>1</th>\n      <td>1</td>\n      <td>12/31/2019</td>\n      <td>United States</td>\n      <td>OLATHE, KS</td>\n      <td>Mooney</td>\n      <td>M20S</td>\n      <td>Fatal(2)</td>\n      <td>Destroyed</td>\n      <td>38.846111</td>\n      <td>-94.736111</td>\n      <td>mooney m20s</td>\n    </tr>\n    <tr>\n      <th>2</th>\n      <td>2</td>\n      <td>12/31/2019</td>\n      <td>United States</td>\n      <td>Fairbanks, AK</td>\n      <td>Cessna</td>\n      <td>170</td>\n      <td>Non-Fatal</td>\n      <td>Substantial</td>\n      <td>64.666945</td>\n      <td>-148.133334</td>\n      <td>cessna 170</td>\n    </tr>\n    <tr>\n      <th>3</th>\n      <td>5</td>\n      <td>12/28/2019</td>\n      <td>United States</td>\n      <td>LAFAYETTE, LA</td>\n      <td>Piper</td>\n      <td>PA 31T</td>\n      <td>Fatal(5)</td>\n      <td>Destroyed</td>\n      <td>30.176111</td>\n      <td>-92.007500</td>\n      <td>piper pa 31t</td>\n    </tr>\n    <tr>\n      <th>4</th>\n      <td>6</td>\n      <td>12/25/2019</td>\n      <td>United States</td>\n      <td>Headland, AL</td>\n      <td>Bell</td>\n      <td>407</td>\n      <td>Fatal(1)</td>\n      <td>Substantial</td>\n      <td>31.364167</td>\n      <td>-85.312500</td>\n      <td>bell 407</td>\n    </tr>\n  </tbody>\n</table>\n</div>"
     },
     "metadata": {},
     "execution_count": 7
    }
   ],
   "source": [
    "data.head()"
   ]
  },
  {
   "cell_type": "code",
   "execution_count": 21,
   "metadata": {},
   "outputs": [
    {
     "output_type": "execute_result",
     "data": {
      "text/plain": [
       "Empty DataFrame\n",
       "Columns: [Date, Latitude, Longitude, Incident ID, Temperature, Max Temperature, Wind Speed, Visibility, Precipitation, Humidity, Conditions, Cloudcover]\n",
       "Index: []"
      ],
      "text/html": "<div>\n<style scoped>\n    .dataframe tbody tr th:only-of-type {\n        vertical-align: middle;\n    }\n\n    .dataframe tbody tr th {\n        vertical-align: top;\n    }\n\n    .dataframe thead th {\n        text-align: right;\n    }\n</style>\n<table border=\"1\" class=\"dataframe\">\n  <thead>\n    <tr style=\"text-align: right;\">\n      <th></th>\n      <th>Date</th>\n      <th>Latitude</th>\n      <th>Longitude</th>\n      <th>Incident ID</th>\n      <th>Temperature</th>\n      <th>Max Temperature</th>\n      <th>Wind Speed</th>\n      <th>Visibility</th>\n      <th>Precipitation</th>\n      <th>Humidity</th>\n      <th>Conditions</th>\n      <th>Cloudcover</th>\n    </tr>\n  </thead>\n  <tbody>\n  </tbody>\n</table>\n</div>"
     },
     "metadata": {},
     "execution_count": 21
    }
   ],
   "source": [
    "weather_data_df=pd.DataFrame({'Date':[],\n",
    "                              'Latitude':[],\n",
    "                              'Longitude':[],\n",
    "                              'Incident ID':[],\n",
    "                              'Temperature':[],\n",
    "                              'Max Temperature':[],\n",
    "                              'Wind Speed': [],\n",
    "                              'Visibility':[],\n",
    "                              'Precipitation':[],\n",
    "                              'Humidity':[],\n",
    "                              'Conditions':[],\n",
    "                              'Cloudcover':[]})\n",
    "weather_data_df"
   ]
  },
  {
   "cell_type": "code",
   "execution_count": 22,
   "metadata": {},
   "outputs": [
    {
     "output_type": "execute_result",
     "data": {
      "text/plain": [
       "                        Date   Latitude   Longitude  Incident ID  Temperature  \\\n",
       "0  2019-12-31T00:00:00-08:00  39.128611 -123.715833          0.0         48.8   \n",
       "0  2019-12-31T00:00:00-06:00  38.846111  -94.736111          1.0         33.7   \n",
       "0  2019-12-31T00:00:00-09:00  64.666945 -148.133334          2.0         -3.0   \n",
       "0  2019-12-28T00:00:00-06:00  30.176111  -92.007500          5.0         68.9   \n",
       "\n",
       "   Max Temperature  Wind Speed  Visibility  Precipitation  Humidity  \\\n",
       "0             58.2         5.2         7.6           0.00     71.77   \n",
       "0             42.2        13.9         9.9           0.00     59.91   \n",
       "0             -0.3         4.5         9.3           0.00     76.68   \n",
       "0             76.0        12.8         5.5           0.09     92.13   \n",
       "\n",
       "         Conditions  Cloudcover  \n",
       "0             Clear        14.1  \n",
       "0             Clear         0.0  \n",
       "0  Partially cloudy        74.6  \n",
       "0    Rain, Overcast        89.9  "
      ],
      "text/html": "<div>\n<style scoped>\n    .dataframe tbody tr th:only-of-type {\n        vertical-align: middle;\n    }\n\n    .dataframe tbody tr th {\n        vertical-align: top;\n    }\n\n    .dataframe thead th {\n        text-align: right;\n    }\n</style>\n<table border=\"1\" class=\"dataframe\">\n  <thead>\n    <tr style=\"text-align: right;\">\n      <th></th>\n      <th>Date</th>\n      <th>Latitude</th>\n      <th>Longitude</th>\n      <th>Incident ID</th>\n      <th>Temperature</th>\n      <th>Max Temperature</th>\n      <th>Wind Speed</th>\n      <th>Visibility</th>\n      <th>Precipitation</th>\n      <th>Humidity</th>\n      <th>Conditions</th>\n      <th>Cloudcover</th>\n    </tr>\n  </thead>\n  <tbody>\n    <tr>\n      <th>0</th>\n      <td>2019-12-31T00:00:00-08:00</td>\n      <td>39.128611</td>\n      <td>-123.715833</td>\n      <td>0.0</td>\n      <td>48.8</td>\n      <td>58.2</td>\n      <td>5.2</td>\n      <td>7.6</td>\n      <td>0.00</td>\n      <td>71.77</td>\n      <td>Clear</td>\n      <td>14.1</td>\n    </tr>\n    <tr>\n      <th>0</th>\n      <td>2019-12-31T00:00:00-06:00</td>\n      <td>38.846111</td>\n      <td>-94.736111</td>\n      <td>1.0</td>\n      <td>33.7</td>\n      <td>42.2</td>\n      <td>13.9</td>\n      <td>9.9</td>\n      <td>0.00</td>\n      <td>59.91</td>\n      <td>Clear</td>\n      <td>0.0</td>\n    </tr>\n    <tr>\n      <th>0</th>\n      <td>2019-12-31T00:00:00-09:00</td>\n      <td>64.666945</td>\n      <td>-148.133334</td>\n      <td>2.0</td>\n      <td>-3.0</td>\n      <td>-0.3</td>\n      <td>4.5</td>\n      <td>9.3</td>\n      <td>0.00</td>\n      <td>76.68</td>\n      <td>Partially cloudy</td>\n      <td>74.6</td>\n    </tr>\n    <tr>\n      <th>0</th>\n      <td>2019-12-28T00:00:00-06:00</td>\n      <td>30.176111</td>\n      <td>-92.007500</td>\n      <td>5.0</td>\n      <td>68.9</td>\n      <td>76.0</td>\n      <td>12.8</td>\n      <td>5.5</td>\n      <td>0.09</td>\n      <td>92.13</td>\n      <td>Rain, Overcast</td>\n      <td>89.9</td>\n    </tr>\n  </tbody>\n</table>\n</div>"
     },
     "metadata": {},
     "execution_count": 22
    }
   ],
   "source": [
    "#https://weather.visualcrossing.com/VisualCrossingWebServices/rest/services/weatherdata/forecast?locations=Herndon,VA,20170&aggregateHours=24&unitGroup=us&shortColumnNames=false&contentType=json&key=YOURAPIKEY\n",
    "\n",
    "base_url='https://weather.visualcrossing.com/VisualCrossingWebServices/rest/services/weatherdata/history?locations='\n",
    "\n",
    "for i in range(len(data)):\n",
    "    date=data['Date'][i].split('/')\n",
    "    date=date[2]+'-'+date[0]+ '-'+date[1]\n",
    "\n",
    "\n",
    "\n",
    "    latlong=f'{data.Latitude[i]},{data.Longitude[i]}'\n",
    "    loc='&aggregateHours=24&unitGroup=us&shortColumnNames=false&contentType=json'\n",
    "    dt=f'&startDateTime={date}T00%3A00%3A00'\n",
    "    key=f'&key={weather_key2}'\n",
    "    url=base_url+latlong+loc+dt+key\n",
    "    try:\n",
    "        weather_response = requests.get(url)\n",
    "        weather_json = weather_response.json()\n",
    "        weather_json['locations']\n",
    "        weather_data_single=pd.DataFrame({'Date':[weather_json['locations'][latlong]['values'][0]['datetimeStr']],\n",
    "                                          'Latitude':[data.Latitude[i]],\n",
    "                                          'Longitude':[data.Longitude[i]],\n",
    "                                          'Incident ID':[data['Unnamed: 0'][i]],\n",
    "                                          'Temperature':[weather_json['locations'][latlong]['values'][0]['temp']],\n",
    "                                          'Max Temperature':[weather_json['locations'][latlong]['values'][0]['maxt']],\n",
    "                                          'Wind Speed':[weather_json['locations'][latlong]['values'][0]['wspd']],\n",
    "                                          'Visibility':[weather_json['locations'][latlong]['values'][0]['visibility']],\n",
    "                                          'Precipitation':[weather_json['locations'][latlong]['values'][0]['precip']],\n",
    "                                          'Humidity':[weather_json['locations'][latlong]['values'][0]['humidity']],\n",
    "                                          'Conditions':[weather_json['locations'][latlong]['values'][0]['conditions']],\n",
    "                                          'Cloudcover':[weather_json['locations'][latlong]['values'][0]['cloudcover']]\n",
    "        })\n",
    "        weather_data_df=weather_data_df.append(weather_data_single)\n",
    "        time.sleep(.5)\n",
    "    except:\n",
    "        print(\"No value found\") #Add and print id of not found\n",
    "    if i==3:\n",
    "        break\n",
    "\n",
    "weather_data_df"
   ]
  },
  {
   "cell_type": "code",
   "execution_count": null,
   "metadata": {},
   "outputs": [],
   "source": [
    "weather_data_df.to_csv('Resources/weather_raw.csv')"
   ]
  },
  {
   "cell_type": "code",
   "execution_count": null,
   "metadata": {},
   "outputs": [],
   "source": []
  }
 ],
 "metadata": {
  "kernelspec": {
   "display_name": "Python 3",
   "language": "python",
   "name": "python3"
  },
  "language_info": {
   "codemirror_mode": {
    "name": "ipython",
    "version": 3
   },
   "file_extension": ".py",
   "mimetype": "text/x-python",
   "name": "python",
   "nbconvert_exporter": "python",
   "pygments_lexer": "ipython3",
   "version": "3.7.7-final"
  }
 },
 "nbformat": 4,
 "nbformat_minor": 2
}